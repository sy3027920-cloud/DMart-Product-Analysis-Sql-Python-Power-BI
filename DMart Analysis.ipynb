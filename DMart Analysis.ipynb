{
 "cells": [
  {
   "cell_type": "markdown",
   "id": "51b88219-3448-4ca4-bf91-4603c6c64360",
   "metadata": {},
   "source": [
    "\n",
    "\n",
    "\n",
    "\n",
    "\n",
    "\n",
    "\n",
    "\n",
    "# DMart Products Analysis\n",
    "## An End-to-End Data Analytics Project (SQL + Python(EDA + Pandas + Matplotlib) + Visualization)"
   ]
  },
  {
   "cell_type": "markdown",
   "id": "aa3fbe7b-baf7-405a-9dd6-96bb4b1ec64a",
   "metadata": {},
   "source": [
    "## Key Business Questions  \n",
    "1.   Pricing & Discount Impact\n",
    "\n",
    "   * Analyze the difference between `Price` and `DiscountedPrice`.\n",
    "   * Identify which products or categories have higher discounts and whether those products are sold more.\n",
    "\n",
    "2.   Category & SubCategory Performance\n",
    "\n",
    "   * Evaluate the performance of different `Category` and `SubCategory`.\n",
    "   * Find the Top 3 and Bottom 3 performing categories based on sales and revenue.\n",
    "\n",
    "3.   Brand Analysis\n",
    "\n",
    "   * Compare different `Brand` performance in terms of total revenue and quantity sold.\n",
    "   * Identify the leading brands within specific categories (e.g., Amul in Dairy, Coca Cola in Beverages).\n",
    "\n",
    "4.   Quantity Sold (Demand Analysis)\n",
    "\n",
    "   * Identify high-demand vs. low-demand products using the `Quantity` column.\n",
    "   * Check for seasonal or trend-based demand patterns (e.g., soft drinks in summer).\n",
    "\n",
    "\n",
    "\n"
   ]
  },
  {
   "cell_type": "markdown",
   "id": "6ccd9a2c-2e78-41a8-b420-85e567f91e4a",
   "metadata": {},
   "source": [
    "## Importing Libraries"
   ]
  },
  {
   "cell_type": "code",
   "execution_count": null,
   "id": "9992ff1a-41df-4894-be01-c36d3b27e55c",
   "metadata": {},
   "outputs": [],
   "source": [
    "import pandas as pd\n",
    "import matplotlib.pyplot as plt\n",
    "import sqlite3\n",
    "import seaborn as sns\n",
    "import warnings\n",
    "warnings.filterwarnings('ignore')"
   ]
  },
  {
   "cell_type": "markdown",
   "id": "4bc6ce71-4ea8-4588-8316-0814ee6d9ef5",
   "metadata": {},
   "source": [
    "## Loading the dataset"
   ]
  },
  {
   "cell_type": "code",
   "execution_count": null,
   "id": "e859b572-6940-4a3c-8ae0-80700977ad4a",
   "metadata": {},
   "outputs": [],
   "source": [
    "df = pd.read_csv(\"Dmart.csv\")"
   ]
  },
  {
   "cell_type": "markdown",
   "id": "a1081c43-a229-45e6-9745-41847a7bfc8d",
   "metadata": {},
   "source": [
    "## Check first 5 rows"
   ]
  },
  {
   "cell_type": "code",
   "execution_count": null,
   "id": "0dd745ae-f785-4a14-9b75-178701577544",
   "metadata": {
    "scrolled": true
   },
   "outputs": [
    {
     "data": {
      "text/html": [
       "<div>\n",
       "<style scoped>\n",
       "    .dataframe tbody tr th:only-of-type {\n",
       "        vertical-align: middle;\n",
       "    }\n",
       "\n",
       "    .dataframe tbody tr th {\n",
       "        vertical-align: top;\n",
       "    }\n",
       "\n",
       "    .dataframe thead th {\n",
       "        text-align: right;\n",
       "    }\n",
       "</style>\n",
       "<table border=\"1\" class=\"dataframe\">\n",
       "  <thead>\n",
       "    <tr style=\"text-align: right;\">\n",
       "      <th></th>\n",
       "      <th>Name</th>\n",
       "      <th>Brand</th>\n",
       "      <th>Price</th>\n",
       "      <th>DiscountedPrice</th>\n",
       "      <th>Category</th>\n",
       "      <th>SubCategory</th>\n",
       "      <th>Quantity</th>\n",
       "      <th>Description</th>\n",
       "      <th>BreadCrumbs</th>\n",
       "    </tr>\n",
       "  </thead>\n",
       "  <tbody>\n",
       "    <tr>\n",
       "      <th>0</th>\n",
       "      <td>Premia Badam (Almonds)</td>\n",
       "      <td>Premia</td>\n",
       "      <td>451.0</td>\n",
       "      <td>329.0</td>\n",
       "      <td>Grocery</td>\n",
       "      <td>Grocery/Dry Fruits</td>\n",
       "      <td>500 gm</td>\n",
       "      <td>India</td>\n",
       "      <td>Grocery &gt; Grocery/Dry Fruits</td>\n",
       "    </tr>\n",
       "    <tr>\n",
       "      <th>1</th>\n",
       "      <td>Premia Badam (Almonds)</td>\n",
       "      <td>Premia</td>\n",
       "      <td>109.0</td>\n",
       "      <td>85.0</td>\n",
       "      <td>Grocery</td>\n",
       "      <td>Grocery/Dry Fruits</td>\n",
       "      <td>100 gm</td>\n",
       "      <td>India</td>\n",
       "      <td>Grocery &gt; Grocery/Dry Fruits</td>\n",
       "    </tr>\n",
       "    <tr>\n",
       "      <th>2</th>\n",
       "      <td>Premia Badam (Almonds)</td>\n",
       "      <td>Premia</td>\n",
       "      <td>202.0</td>\n",
       "      <td>175.0</td>\n",
       "      <td>Grocery</td>\n",
       "      <td>Grocery/Dry Fruits</td>\n",
       "      <td>200 gm</td>\n",
       "      <td>India</td>\n",
       "      <td>Grocery &gt; Grocery/Dry Fruits</td>\n",
       "    </tr>\n",
       "    <tr>\n",
       "      <th>3</th>\n",
       "      <td>Nutraj California Almonds (Badam)</td>\n",
       "      <td>Nutraj</td>\n",
       "      <td>599.0</td>\n",
       "      <td>349.0</td>\n",
       "      <td>Grocery</td>\n",
       "      <td>Dry Fruits</td>\n",
       "      <td>500 gm</td>\n",
       "      <td>USA</td>\n",
       "      <td>Grocery &gt; Dry Fruits</td>\n",
       "    </tr>\n",
       "    <tr>\n",
       "      <th>4</th>\n",
       "      <td>Nutraj California Almonds (Badam)</td>\n",
       "      <td>Nutraj</td>\n",
       "      <td>1549.0</td>\n",
       "      <td>659.0</td>\n",
       "      <td>Grocery</td>\n",
       "      <td>Dry Fruits</td>\n",
       "      <td>1 kg</td>\n",
       "      <td>USA</td>\n",
       "      <td>Grocery &gt; Dry Fruits</td>\n",
       "    </tr>\n",
       "  </tbody>\n",
       "</table>\n",
       "</div>"
      ],
      "text/plain": [
       "                                Name   Brand   Price  DiscountedPrice  \\\n",
       "0             Premia Badam (Almonds)  Premia   451.0            329.0   \n",
       "1             Premia Badam (Almonds)  Premia   109.0             85.0   \n",
       "2             Premia Badam (Almonds)  Premia   202.0            175.0   \n",
       "3  Nutraj California Almonds (Badam)  Nutraj   599.0            349.0   \n",
       "4  Nutraj California Almonds (Badam)  Nutraj  1549.0            659.0   \n",
       "\n",
       "  Category         SubCategory Quantity Description  \\\n",
       "0  Grocery  Grocery/Dry Fruits   500 gm       India   \n",
       "1  Grocery  Grocery/Dry Fruits   100 gm       India   \n",
       "2  Grocery  Grocery/Dry Fruits   200 gm       India   \n",
       "3  Grocery          Dry Fruits   500 gm         USA   \n",
       "4  Grocery          Dry Fruits     1 kg         USA   \n",
       "\n",
       "                    BreadCrumbs  \n",
       "0  Grocery > Grocery/Dry Fruits  \n",
       "1  Grocery > Grocery/Dry Fruits  \n",
       "2  Grocery > Grocery/Dry Fruits  \n",
       "3          Grocery > Dry Fruits  \n",
       "4          Grocery > Dry Fruits  "
      ]
     },
     "execution_count": 4,
     "metadata": {},
     "output_type": "execute_result"
    }
   ],
   "source": [
    "df.head()"
   ]
  },
  {
   "cell_type": "markdown",
   "id": "24097f23-ed4e-4189-ae74-f4bf76875911",
   "metadata": {},
   "source": [
    "## check last 5 rows"
   ]
  },
  {
   "cell_type": "code",
   "execution_count": null,
   "id": "b6a17978-e014-447e-9198-43d1be8a14c4",
   "metadata": {},
   "outputs": [
    {
     "data": {
      "text/html": [
       "<div>\n",
       "<style scoped>\n",
       "    .dataframe tbody tr th:only-of-type {\n",
       "        vertical-align: middle;\n",
       "    }\n",
       "\n",
       "    .dataframe tbody tr th {\n",
       "        vertical-align: top;\n",
       "    }\n",
       "\n",
       "    .dataframe thead th {\n",
       "        text-align: right;\n",
       "    }\n",
       "</style>\n",
       "<table border=\"1\" class=\"dataframe\">\n",
       "  <thead>\n",
       "    <tr style=\"text-align: right;\">\n",
       "      <th></th>\n",
       "      <th>Name</th>\n",
       "      <th>Brand</th>\n",
       "      <th>Price</th>\n",
       "      <th>DiscountedPrice</th>\n",
       "      <th>Category</th>\n",
       "      <th>SubCategory</th>\n",
       "      <th>Quantity</th>\n",
       "      <th>Description</th>\n",
       "      <th>BreadCrumbs</th>\n",
       "    </tr>\n",
       "  </thead>\n",
       "  <tbody>\n",
       "    <tr>\n",
       "      <th>5184</th>\n",
       "      <td>Navneet Youva A4 Notebook - Assorted</td>\n",
       "      <td>Navneet</td>\n",
       "      <td>55.0</td>\n",
       "      <td>36.0</td>\n",
       "      <td>School Supplies</td>\n",
       "      <td>School Needs</td>\n",
       "      <td>1 Book</td>\n",
       "      <td>OverviewEach book has an index page with label...</td>\n",
       "      <td>School Supplies &gt; School Needs</td>\n",
       "    </tr>\n",
       "    <tr>\n",
       "      <th>5185</th>\n",
       "      <td>Navneet Youva Longbook Journal - Assorted</td>\n",
       "      <td>Navneet</td>\n",
       "      <td>85.0</td>\n",
       "      <td>69.0</td>\n",
       "      <td>School Supplies</td>\n",
       "      <td>School Needs</td>\n",
       "      <td>1 Book</td>\n",
       "      <td>OverviewStrong &amp; sturdy case binding. Easy to ...</td>\n",
       "      <td>School Supplies &gt; School Needs</td>\n",
       "    </tr>\n",
       "    <tr>\n",
       "      <th>5186</th>\n",
       "      <td>Navneet Youva Long Notebook - Assorted</td>\n",
       "      <td>Navneet</td>\n",
       "      <td>55.0</td>\n",
       "      <td>40.0</td>\n",
       "      <td>School Supplies</td>\n",
       "      <td>School Needs</td>\n",
       "      <td>1 Book</td>\n",
       "      <td>OverviewAttractive colour and designs. Easy to...</td>\n",
       "      <td>School Supplies &gt; School Needs</td>\n",
       "    </tr>\n",
       "    <tr>\n",
       "      <th>5187</th>\n",
       "      <td>Navneet Youva Drawing Book - Assorted</td>\n",
       "      <td>Navneet</td>\n",
       "      <td>110.0</td>\n",
       "      <td>72.0</td>\n",
       "      <td>School Supplies</td>\n",
       "      <td>School Needs</td>\n",
       "      <td>1 Book</td>\n",
       "      <td>OverviewDrawing book has attractive cover desi...</td>\n",
       "      <td>School Supplies &gt; School Needs</td>\n",
       "    </tr>\n",
       "    <tr>\n",
       "      <th>5188</th>\n",
       "      <td>Navneet Youva Canvas Board (10x12 Inches)</td>\n",
       "      <td>Navneet</td>\n",
       "      <td>90.0</td>\n",
       "      <td>75.0</td>\n",
       "      <td>School Supplies</td>\n",
       "      <td>School Needs</td>\n",
       "      <td>1 U</td>\n",
       "      <td>OverviewCoated with a double layer of acrylic ...</td>\n",
       "      <td>School Supplies &gt; School Needs</td>\n",
       "    </tr>\n",
       "  </tbody>\n",
       "</table>\n",
       "</div>"
      ],
      "text/plain": [
       "                                           Name    Brand  Price  \\\n",
       "5184       Navneet Youva A4 Notebook - Assorted  Navneet   55.0   \n",
       "5185  Navneet Youva Longbook Journal - Assorted  Navneet   85.0   \n",
       "5186     Navneet Youva Long Notebook - Assorted  Navneet   55.0   \n",
       "5187      Navneet Youva Drawing Book - Assorted  Navneet  110.0   \n",
       "5188  Navneet Youva Canvas Board (10x12 Inches)  Navneet   90.0   \n",
       "\n",
       "      DiscountedPrice         Category   SubCategory Quantity  \\\n",
       "5184             36.0  School Supplies  School Needs   1 Book   \n",
       "5185             69.0  School Supplies  School Needs   1 Book   \n",
       "5186             40.0  School Supplies  School Needs   1 Book   \n",
       "5187             72.0  School Supplies  School Needs   1 Book   \n",
       "5188             75.0  School Supplies  School Needs      1 U   \n",
       "\n",
       "                                            Description  \\\n",
       "5184  OverviewEach book has an index page with label...   \n",
       "5185  OverviewStrong & sturdy case binding. Easy to ...   \n",
       "5186  OverviewAttractive colour and designs. Easy to...   \n",
       "5187  OverviewDrawing book has attractive cover desi...   \n",
       "5188  OverviewCoated with a double layer of acrylic ...   \n",
       "\n",
       "                         BreadCrumbs  \n",
       "5184  School Supplies > School Needs  \n",
       "5185  School Supplies > School Needs  \n",
       "5186  School Supplies > School Needs  \n",
       "5187  School Supplies > School Needs  \n",
       "5188  School Supplies > School Needs  "
      ]
     },
     "execution_count": 5,
     "metadata": {},
     "output_type": "execute_result"
    }
   ],
   "source": [
    "df.tail()"
   ]
  },
  {
   "cell_type": "markdown",
   "id": "2e1af35b-afc7-4823-a176-24852b147d61",
   "metadata": {},
   "source": [
    "## Save Data into SQLite Database"
   ]
  },
  {
   "cell_type": "code",
   "execution_count": null,
   "id": "d795c988-3b42-45e9-af4e-9b607d376edb",
   "metadata": {},
   "outputs": [],
   "source": [
    "# Create a SQLite database connection\n",
    "conn = sqlite3.connect(\"C:/Users/YGOLU/desktop/Dmartproject/dmart.db\")\n",
    "#  dataframe to SQL table\n",
    "df.to_sql(\"dmart_products\", conn, if_exists=\"replace\", index=False)\n",
    "# Verify by running a SQL query\n",
    "query = \"SELECT * FROM dmart_products LIMIT 5;\"\n",
    "print(pd.read_sql(query, conn))"
   ]
  },
  {
   "cell_type": "markdown",
   "id": "11c9e76c-7430-4f7d-aa06-394718a33ec9",
   "metadata": {},
   "source": [
    "## Shape of Data\n"
   ]
  },
  {
   "cell_type": "code",
   "execution_count": null,
   "id": "9a2ff6c9-a388-4507-92ee-191f624c5d3f",
   "metadata": {},
   "outputs": [
    {
     "data": {
      "text/plain": [
       "(5189, 9)"
      ]
     },
     "execution_count": 7,
     "metadata": {},
     "output_type": "execute_result"
    }
   ],
   "source": [
    "df.shape"
   ]
  },
  {
   "cell_type": "markdown",
   "id": "fbe79db8-d20d-480d-a9f4-cd44d4e1e57e",
   "metadata": {},
   "source": [
    "## Dataset information"
   ]
  },
  {
   "cell_type": "code",
   "execution_count": null,
   "id": "52d6e2bd-88bf-4d42-a74e-0de78a1a5430",
   "metadata": {},
   "outputs": [
    {
     "name": "stdout",
     "output_type": "stream",
     "text": [
      "<class 'pandas.core.frame.DataFrame'>\n",
      "RangeIndex: 5189 entries, 0 to 5188\n",
      "Data columns (total 9 columns):\n",
      " #   Column           Non-Null Count  Dtype  \n",
      "---  ------           --------------  -----  \n",
      " 0   Name             5188 non-null   object \n",
      " 1   Brand            4789 non-null   object \n",
      " 2   Price            5188 non-null   float64\n",
      " 3   DiscountedPrice  5188 non-null   float64\n",
      " 4   Category         5186 non-null   object \n",
      " 5   SubCategory      5186 non-null   object \n",
      " 6   Quantity         5188 non-null   object \n",
      " 7   Description      5187 non-null   object \n",
      " 8   BreadCrumbs      5186 non-null   object \n",
      "dtypes: float64(2), object(7)\n",
      "memory usage: 365.0+ KB\n"
     ]
    }
   ],
   "source": [
    "df.info()"
   ]
  },
  {
   "cell_type": "markdown",
   "id": "8e814df4-e0d9-4f51-bf66-faed52ff1530",
   "metadata": {},
   "source": [
    "## Dataset Columns"
   ]
  },
  {
   "cell_type": "code",
   "execution_count": null,
   "id": "196ac211-5478-46ca-9047-5af1aa370d1d",
   "metadata": {},
   "outputs": [
    {
     "data": {
      "text/plain": [
       "Index(['Name', 'Brand', 'Price', 'DiscountedPrice', 'Category', 'SubCategory',\n",
       "       'Quantity', 'Description', 'BreadCrumbs'],\n",
       "      dtype='object')"
      ]
     },
     "execution_count": 9,
     "metadata": {},
     "output_type": "execute_result"
    }
   ],
   "source": [
    "df.columns"
   ]
  },
  {
   "cell_type": "markdown",
   "id": "15eff800-623e-4242-b851-d6bc436ae851",
   "metadata": {},
   "source": [
    "## Change datatype of Columns"
   ]
  },
  {
   "cell_type": "code",
   "execution_count": null,
   "id": "1fb70031-d10e-4cd3-9b0b-d2dfca38501d",
   "metadata": {},
   "outputs": [],
   "source": [
    "df['Quantity'] = df['Quantity'].astype(str).str.extract(r'(\\d+)').astype('Int64')"
   ]
  },
  {
   "cell_type": "code",
   "execution_count": null,
   "id": "9c22961f-e6fe-42a4-a212-6be7a4997c13",
   "metadata": {},
   "outputs": [],
   "source": [
    "df[\"Price\"] = pd.to_numeric(df[\"Price\"], errors=\"coerce\")\n",
    "df[\"DiscountedPrice\"] = pd.to_numeric(df[\"DiscountedPrice\"], errors=\"coerce\")\n"
   ]
  },
  {
   "cell_type": "code",
   "execution_count": null,
   "id": "a808e943-0625-4c06-b05b-dd2345ad692c",
   "metadata": {},
   "outputs": [
    {
     "name": "stdout",
     "output_type": "stream",
     "text": [
      "<class 'pandas.core.frame.DataFrame'>\n",
      "RangeIndex: 5189 entries, 0 to 5188\n",
      "Data columns (total 9 columns):\n",
      " #   Column           Non-Null Count  Dtype  \n",
      "---  ------           --------------  -----  \n",
      " 0   Name             5188 non-null   object \n",
      " 1   Brand            4789 non-null   object \n",
      " 2   Price            5188 non-null   float64\n",
      " 3   DiscountedPrice  5188 non-null   float64\n",
      " 4   Category         5186 non-null   object \n",
      " 5   SubCategory      5186 non-null   object \n",
      " 6   Quantity         5014 non-null   Int64  \n",
      " 7   Description      5187 non-null   object \n",
      " 8   BreadCrumbs      5186 non-null   object \n",
      "dtypes: Int64(1), float64(2), object(6)\n",
      "memory usage: 370.0+ KB\n"
     ]
    }
   ],
   "source": [
    "df.info()"
   ]
  },
  {
   "cell_type": "markdown",
   "id": "4bb0be19-99bd-4bb4-8c0d-d01be05259f6",
   "metadata": {},
   "source": [
    "##  statistical summary on categorical columns"
   ]
  },
  {
   "cell_type": "code",
   "execution_count": null,
   "id": "6ab3501e-1ef1-406b-b5ea-49fab8dcade4",
   "metadata": {},
   "outputs": [
    {
     "data": {
      "text/html": [
       "<div>\n",
       "<style scoped>\n",
       "    .dataframe tbody tr th:only-of-type {\n",
       "        vertical-align: middle;\n",
       "    }\n",
       "\n",
       "    .dataframe tbody tr th {\n",
       "        vertical-align: top;\n",
       "    }\n",
       "\n",
       "    .dataframe thead th {\n",
       "        text-align: right;\n",
       "    }\n",
       "</style>\n",
       "<table border=\"1\" class=\"dataframe\">\n",
       "  <thead>\n",
       "    <tr style=\"text-align: right;\">\n",
       "      <th></th>\n",
       "      <th>count</th>\n",
       "      <th>unique</th>\n",
       "      <th>top</th>\n",
       "      <th>freq</th>\n",
       "    </tr>\n",
       "  </thead>\n",
       "  <tbody>\n",
       "    <tr>\n",
       "      <th>Name</th>\n",
       "      <td>5188</td>\n",
       "      <td>4360</td>\n",
       "      <td>Elle 18 Nail Pops Nail Colour - Shade 39</td>\n",
       "      <td>7</td>\n",
       "    </tr>\n",
       "    <tr>\n",
       "      <th>Brand</th>\n",
       "      <td>4789</td>\n",
       "      <td>822</td>\n",
       "      <td>Premia</td>\n",
       "      <td>155</td>\n",
       "    </tr>\n",
       "    <tr>\n",
       "      <th>Category</th>\n",
       "      <td>5186</td>\n",
       "      <td>29</td>\n",
       "      <td>Personal Care</td>\n",
       "      <td>1234</td>\n",
       "    </tr>\n",
       "    <tr>\n",
       "      <th>SubCategory</th>\n",
       "      <td>5186</td>\n",
       "      <td>86</td>\n",
       "      <td>Snacks &amp; Farsans</td>\n",
       "      <td>302</td>\n",
       "    </tr>\n",
       "    <tr>\n",
       "      <th>Description</th>\n",
       "      <td>5187</td>\n",
       "      <td>3616</td>\n",
       "      <td>India</td>\n",
       "      <td>604</td>\n",
       "    </tr>\n",
       "    <tr>\n",
       "      <th>BreadCrumbs</th>\n",
       "      <td>5186</td>\n",
       "      <td>97</td>\n",
       "      <td>Packaged Food &gt; Snacks &amp; Farsans</td>\n",
       "      <td>291</td>\n",
       "    </tr>\n",
       "  </tbody>\n",
       "</table>\n",
       "</div>"
      ],
      "text/plain": [
       "            count unique                                       top  freq\n",
       "Name         5188   4360  Elle 18 Nail Pops Nail Colour - Shade 39     7\n",
       "Brand        4789    822                                    Premia   155\n",
       "Category     5186     29                             Personal Care  1234\n",
       "SubCategory  5186     86                          Snacks & Farsans   302\n",
       "Description  5187   3616                                     India   604\n",
       "BreadCrumbs  5186     97          Packaged Food > Snacks & Farsans   291"
      ]
     },
     "execution_count": 13,
     "metadata": {},
     "output_type": "execute_result"
    }
   ],
   "source": [
    "df.describe(include='object').T\n"
   ]
  },
  {
   "cell_type": "code",
   "execution_count": null,
   "id": "748cfbdd-7e3a-455c-ab1d-c0841174fdc1",
   "metadata": {},
   "outputs": [
    {
     "data": {
      "text/html": [
       "<div>\n",
       "<style scoped>\n",
       "    .dataframe tbody tr th:only-of-type {\n",
       "        vertical-align: middle;\n",
       "    }\n",
       "\n",
       "    .dataframe tbody tr th {\n",
       "        vertical-align: top;\n",
       "    }\n",
       "\n",
       "    .dataframe thead th {\n",
       "        text-align: right;\n",
       "    }\n",
       "</style>\n",
       "<table border=\"1\" class=\"dataframe\">\n",
       "  <thead>\n",
       "    <tr style=\"text-align: right;\">\n",
       "      <th></th>\n",
       "      <th>Price</th>\n",
       "      <th>DiscountedPrice</th>\n",
       "      <th>Quantity</th>\n",
       "    </tr>\n",
       "  </thead>\n",
       "  <tbody>\n",
       "    <tr>\n",
       "      <th>count</th>\n",
       "      <td>5188.000000</td>\n",
       "      <td>5188.000000</td>\n",
       "      <td>5014.0</td>\n",
       "    </tr>\n",
       "    <tr>\n",
       "      <th>mean</th>\n",
       "      <td>344.030360</td>\n",
       "      <td>236.669719</td>\n",
       "      <td>150.573394</td>\n",
       "    </tr>\n",
       "    <tr>\n",
       "      <th>std</th>\n",
       "      <td>601.034092</td>\n",
       "      <td>387.198716</td>\n",
       "      <td>205.253919</td>\n",
       "    </tr>\n",
       "    <tr>\n",
       "      <th>min</th>\n",
       "      <td>0.000000</td>\n",
       "      <td>0.000000</td>\n",
       "      <td>0.0</td>\n",
       "    </tr>\n",
       "    <tr>\n",
       "      <th>25%</th>\n",
       "      <td>85.000000</td>\n",
       "      <td>64.000000</td>\n",
       "      <td>4.0</td>\n",
       "    </tr>\n",
       "    <tr>\n",
       "      <th>50%</th>\n",
       "      <td>175.000000</td>\n",
       "      <td>125.000000</td>\n",
       "      <td>60.0</td>\n",
       "    </tr>\n",
       "    <tr>\n",
       "      <th>75%</th>\n",
       "      <td>345.000000</td>\n",
       "      <td>249.000000</td>\n",
       "      <td>200.0</td>\n",
       "    </tr>\n",
       "    <tr>\n",
       "      <th>max</th>\n",
       "      <td>10990.000000</td>\n",
       "      <td>7999.000000</td>\n",
       "      <td>2000.0</td>\n",
       "    </tr>\n",
       "  </tbody>\n",
       "</table>\n",
       "</div>"
      ],
      "text/plain": [
       "              Price  DiscountedPrice    Quantity\n",
       "count   5188.000000      5188.000000      5014.0\n",
       "mean     344.030360       236.669719  150.573394\n",
       "std      601.034092       387.198716  205.253919\n",
       "min        0.000000         0.000000         0.0\n",
       "25%       85.000000        64.000000         4.0\n",
       "50%      175.000000       125.000000        60.0\n",
       "75%      345.000000       249.000000       200.0\n",
       "max    10990.000000      7999.000000      2000.0"
      ]
     },
     "execution_count": 14,
     "metadata": {},
     "output_type": "execute_result"
    }
   ],
   "source": [
    "df.describe()"
   ]
  },
  {
   "cell_type": "markdown",
   "id": "c8b1c3f0-c001-4379-8785-44977427b964",
   "metadata": {},
   "source": [
    "## Check null counts"
   ]
  },
  {
   "cell_type": "code",
   "execution_count": null,
   "id": "472546c2-e66b-4609-ac9b-d17555462668",
   "metadata": {},
   "outputs": [
    {
     "data": {
      "text/plain": [
       "Name                 1\n",
       "Brand              400\n",
       "Price                1\n",
       "DiscountedPrice      1\n",
       "Category             3\n",
       "SubCategory          3\n",
       "Quantity           175\n",
       "Description          2\n",
       "BreadCrumbs          3\n",
       "dtype: int64"
      ]
     },
     "execution_count": 15,
     "metadata": {},
     "output_type": "execute_result"
    }
   ],
   "source": [
    "df.isnull().sum()"
   ]
  },
  {
   "cell_type": "markdown",
   "id": "c5eab96d-8f01-4dea-9d1d-7f0078ab3e11",
   "metadata": {},
   "source": [
    "# EDA(Exploratory Data Analysis)"
   ]
  },
  {
   "cell_type": "markdown",
   "id": "bb05f653-ea85-4047-8453-d6786524b4bb",
   "metadata": {},
   "source": [
    "# missing values handle + chek duplicates and drop duplicates values + outliers detect & handle"
   ]
  },
  {
   "cell_type": "code",
   "execution_count": null,
   "id": "379fd165-f87c-4e00-ad6f-f2e8811410b3",
   "metadata": {},
   "outputs": [],
   "source": [
    "# Drop rows where Name is missing\n",
    "df = df.dropna(subset=['Name'])"
   ]
  },
  {
   "cell_type": "code",
   "execution_count": null,
   "id": "7b37e78f-6436-4d85-b2b3-5098d05db4f4",
   "metadata": {},
   "outputs": [],
   "source": [
    "# हर (Category, SubCategory) में सबसे common Brand निकालो\n",
    "df['Brand'] = df['Brand'].fillna(\n",
    "    df.groupby(['Category','SubCategory'])['Brand']\n",
    "      .transform(lambda x: x.mode().iloc[0] if not x.mode().empty else \"Unknown\")\n",
    ")\n"
   ]
  },
  {
   "cell_type": "code",
   "execution_count": null,
   "id": "3eea476c-7c44-439a-a1f3-0e328029813f",
   "metadata": {},
   "outputs": [
    {
     "data": {
      "text/plain": [
       "0        Premia\n",
       "1        Premia\n",
       "2        Premia\n",
       "3        Nutraj\n",
       "4        Nutraj\n",
       "         ...   \n",
       "5184    Navneet\n",
       "5185    Navneet\n",
       "5186    Navneet\n",
       "5187    Navneet\n",
       "5188    Navneet\n",
       "Name: Brand, Length: 5188, dtype: object"
      ]
     },
     "execution_count": 18,
     "metadata": {},
     "output_type": "execute_result"
    }
   ],
   "source": [
    "df[\"Brand\"].fillna(\"Unknown\")"
   ]
  },
  {
   "cell_type": "code",
   "execution_count": null,
   "id": "364aec06-0423-4660-bd8f-3f95e2e5b681",
   "metadata": {},
   "outputs": [
    {
     "data": {
      "text/plain": [
       "0               Grocery\n",
       "1               Grocery\n",
       "2               Grocery\n",
       "3               Grocery\n",
       "4               Grocery\n",
       "             ...       \n",
       "5184    School Supplies\n",
       "5185    School Supplies\n",
       "5186    School Supplies\n",
       "5187    School Supplies\n",
       "5188    School Supplies\n",
       "Name: Category, Length: 5188, dtype: object"
      ]
     },
     "execution_count": 19,
     "metadata": {},
     "output_type": "execute_result"
    }
   ],
   "source": [
    "df[\"Category\"].fillna(\"Unknown\")"
   ]
  },
  {
   "cell_type": "code",
   "execution_count": null,
   "id": "8dffbc7b-26b5-42cc-abd1-ea85c13cbb02",
   "metadata": {},
   "outputs": [],
   "source": [
    "df['Quantity'] = df['Quantity'].astype(float)\n",
    "df['DiscountedPrice'] = df['DiscountedPrice'].astype(float)\n"
   ]
  },
  {
   "cell_type": "code",
   "execution_count": null,
   "id": "4d095a8c-fbd4-443d-900e-21171b39eb51",
   "metadata": {},
   "outputs": [],
   "source": [
    "df['Price'].fillna(df['Price'].median(), inplace=True)\n",
    "df['DiscountedPrice'].fillna(df['DiscountedPrice'].median(), inplace=True)\n"
   ]
  },
  {
   "cell_type": "code",
   "execution_count": null,
   "id": "0fba832a-2d93-41ee-8ab4-8ee9db18d8c8",
   "metadata": {},
   "outputs": [],
   "source": [
    "df['Category'].fillna(\"Unknown\", inplace=True)\n",
    "df['SubCategory'].fillna(\"Unknown\", inplace=True)\n",
    "df['BreadCrumbs'].fillna(\"Unknown\", inplace=True)\n"
   ]
  },
  {
   "cell_type": "code",
   "execution_count": null,
   "id": "3a1e3c19-0280-4a8c-8e44-0139fd6b84dd",
   "metadata": {},
   "outputs": [],
   "source": [
    "df['Quantity'].fillna(df['Quantity'].median(), inplace=True)\n"
   ]
  },
  {
   "cell_type": "code",
   "execution_count": null,
   "id": "6679caaf-d44c-4d5a-8dc5-7de3d13c78fc",
   "metadata": {},
   "outputs": [],
   "source": [
    "df['Description'].fillna(\"Not Available\", inplace=True)\n"
   ]
  },
  {
   "cell_type": "code",
   "execution_count": null,
   "id": "c50bbf31-de06-4b86-8588-af03e2fae22f",
   "metadata": {},
   "outputs": [],
   "source": [
    "df[\"Category\"].fillna(\"Unknown\", inplace=True)\n"
   ]
  },
  {
   "cell_type": "code",
   "execution_count": null,
   "id": "a454d3ee-b1f1-4a86-a513-627296a6a007",
   "metadata": {},
   "outputs": [
    {
     "data": {
      "text/html": [
       "<div>\n",
       "<style scoped>\n",
       "    .dataframe tbody tr th:only-of-type {\n",
       "        vertical-align: middle;\n",
       "    }\n",
       "\n",
       "    .dataframe tbody tr th {\n",
       "        vertical-align: top;\n",
       "    }\n",
       "\n",
       "    .dataframe thead th {\n",
       "        text-align: right;\n",
       "    }\n",
       "</style>\n",
       "<table border=\"1\" class=\"dataframe\">\n",
       "  <thead>\n",
       "    <tr style=\"text-align: right;\">\n",
       "      <th></th>\n",
       "      <th>Name</th>\n",
       "      <th>Brand</th>\n",
       "      <th>Price</th>\n",
       "      <th>DiscountedPrice</th>\n",
       "      <th>Category</th>\n",
       "      <th>SubCategory</th>\n",
       "      <th>Quantity</th>\n",
       "      <th>Description</th>\n",
       "      <th>BreadCrumbs</th>\n",
       "    </tr>\n",
       "  </thead>\n",
       "  <tbody>\n",
       "    <tr>\n",
       "      <th>0</th>\n",
       "      <td>Premia Badam (Almonds)</td>\n",
       "      <td>Premia</td>\n",
       "      <td>451.0</td>\n",
       "      <td>329.0</td>\n",
       "      <td>Grocery</td>\n",
       "      <td>Grocery/Dry Fruits</td>\n",
       "      <td>500.0</td>\n",
       "      <td>India</td>\n",
       "      <td>Grocery &gt; Grocery/Dry Fruits</td>\n",
       "    </tr>\n",
       "    <tr>\n",
       "      <th>1</th>\n",
       "      <td>Premia Badam (Almonds)</td>\n",
       "      <td>Premia</td>\n",
       "      <td>109.0</td>\n",
       "      <td>85.0</td>\n",
       "      <td>Grocery</td>\n",
       "      <td>Grocery/Dry Fruits</td>\n",
       "      <td>100.0</td>\n",
       "      <td>India</td>\n",
       "      <td>Grocery &gt; Grocery/Dry Fruits</td>\n",
       "    </tr>\n",
       "    <tr>\n",
       "      <th>2</th>\n",
       "      <td>Premia Badam (Almonds)</td>\n",
       "      <td>Premia</td>\n",
       "      <td>202.0</td>\n",
       "      <td>175.0</td>\n",
       "      <td>Grocery</td>\n",
       "      <td>Grocery/Dry Fruits</td>\n",
       "      <td>200.0</td>\n",
       "      <td>India</td>\n",
       "      <td>Grocery &gt; Grocery/Dry Fruits</td>\n",
       "    </tr>\n",
       "    <tr>\n",
       "      <th>3</th>\n",
       "      <td>Nutraj California Almonds (Badam)</td>\n",
       "      <td>Nutraj</td>\n",
       "      <td>599.0</td>\n",
       "      <td>349.0</td>\n",
       "      <td>Grocery</td>\n",
       "      <td>Dry Fruits</td>\n",
       "      <td>500.0</td>\n",
       "      <td>USA</td>\n",
       "      <td>Grocery &gt; Dry Fruits</td>\n",
       "    </tr>\n",
       "    <tr>\n",
       "      <th>4</th>\n",
       "      <td>Nutraj California Almonds (Badam)</td>\n",
       "      <td>Nutraj</td>\n",
       "      <td>1549.0</td>\n",
       "      <td>659.0</td>\n",
       "      <td>Grocery</td>\n",
       "      <td>Dry Fruits</td>\n",
       "      <td>1.0</td>\n",
       "      <td>USA</td>\n",
       "      <td>Grocery &gt; Dry Fruits</td>\n",
       "    </tr>\n",
       "    <tr>\n",
       "      <th>...</th>\n",
       "      <td>...</td>\n",
       "      <td>...</td>\n",
       "      <td>...</td>\n",
       "      <td>...</td>\n",
       "      <td>...</td>\n",
       "      <td>...</td>\n",
       "      <td>...</td>\n",
       "      <td>...</td>\n",
       "      <td>...</td>\n",
       "    </tr>\n",
       "    <tr>\n",
       "      <th>5184</th>\n",
       "      <td>Navneet Youva A4 Notebook - Assorted</td>\n",
       "      <td>Navneet</td>\n",
       "      <td>55.0</td>\n",
       "      <td>36.0</td>\n",
       "      <td>School Supplies</td>\n",
       "      <td>School Needs</td>\n",
       "      <td>1.0</td>\n",
       "      <td>OverviewEach book has an index page with label...</td>\n",
       "      <td>School Supplies &gt; School Needs</td>\n",
       "    </tr>\n",
       "    <tr>\n",
       "      <th>5185</th>\n",
       "      <td>Navneet Youva Longbook Journal - Assorted</td>\n",
       "      <td>Navneet</td>\n",
       "      <td>85.0</td>\n",
       "      <td>69.0</td>\n",
       "      <td>School Supplies</td>\n",
       "      <td>School Needs</td>\n",
       "      <td>1.0</td>\n",
       "      <td>OverviewStrong &amp; sturdy case binding. Easy to ...</td>\n",
       "      <td>School Supplies &gt; School Needs</td>\n",
       "    </tr>\n",
       "    <tr>\n",
       "      <th>5186</th>\n",
       "      <td>Navneet Youva Long Notebook - Assorted</td>\n",
       "      <td>Navneet</td>\n",
       "      <td>55.0</td>\n",
       "      <td>40.0</td>\n",
       "      <td>School Supplies</td>\n",
       "      <td>School Needs</td>\n",
       "      <td>1.0</td>\n",
       "      <td>OverviewAttractive colour and designs. Easy to...</td>\n",
       "      <td>School Supplies &gt; School Needs</td>\n",
       "    </tr>\n",
       "    <tr>\n",
       "      <th>5187</th>\n",
       "      <td>Navneet Youva Drawing Book - Assorted</td>\n",
       "      <td>Navneet</td>\n",
       "      <td>110.0</td>\n",
       "      <td>72.0</td>\n",
       "      <td>School Supplies</td>\n",
       "      <td>School Needs</td>\n",
       "      <td>1.0</td>\n",
       "      <td>OverviewDrawing book has attractive cover desi...</td>\n",
       "      <td>School Supplies &gt; School Needs</td>\n",
       "    </tr>\n",
       "    <tr>\n",
       "      <th>5188</th>\n",
       "      <td>Navneet Youva Canvas Board (10x12 Inches)</td>\n",
       "      <td>Navneet</td>\n",
       "      <td>90.0</td>\n",
       "      <td>75.0</td>\n",
       "      <td>School Supplies</td>\n",
       "      <td>School Needs</td>\n",
       "      <td>1.0</td>\n",
       "      <td>OverviewCoated with a double layer of acrylic ...</td>\n",
       "      <td>School Supplies &gt; School Needs</td>\n",
       "    </tr>\n",
       "  </tbody>\n",
       "</table>\n",
       "<p>5188 rows × 9 columns</p>\n",
       "</div>"
      ],
      "text/plain": [
       "                                           Name    Brand   Price  \\\n",
       "0                        Premia Badam (Almonds)   Premia   451.0   \n",
       "1                        Premia Badam (Almonds)   Premia   109.0   \n",
       "2                        Premia Badam (Almonds)   Premia   202.0   \n",
       "3             Nutraj California Almonds (Badam)   Nutraj   599.0   \n",
       "4             Nutraj California Almonds (Badam)   Nutraj  1549.0   \n",
       "...                                         ...      ...     ...   \n",
       "5184       Navneet Youva A4 Notebook - Assorted  Navneet    55.0   \n",
       "5185  Navneet Youva Longbook Journal - Assorted  Navneet    85.0   \n",
       "5186     Navneet Youva Long Notebook - Assorted  Navneet    55.0   \n",
       "5187      Navneet Youva Drawing Book - Assorted  Navneet   110.0   \n",
       "5188  Navneet Youva Canvas Board (10x12 Inches)  Navneet    90.0   \n",
       "\n",
       "      DiscountedPrice         Category         SubCategory  Quantity  \\\n",
       "0               329.0          Grocery  Grocery/Dry Fruits     500.0   \n",
       "1                85.0          Grocery  Grocery/Dry Fruits     100.0   \n",
       "2               175.0          Grocery  Grocery/Dry Fruits     200.0   \n",
       "3               349.0          Grocery          Dry Fruits     500.0   \n",
       "4               659.0          Grocery          Dry Fruits       1.0   \n",
       "...               ...              ...                 ...       ...   \n",
       "5184             36.0  School Supplies        School Needs       1.0   \n",
       "5185             69.0  School Supplies        School Needs       1.0   \n",
       "5186             40.0  School Supplies        School Needs       1.0   \n",
       "5187             72.0  School Supplies        School Needs       1.0   \n",
       "5188             75.0  School Supplies        School Needs       1.0   \n",
       "\n",
       "                                            Description  \\\n",
       "0                                                 India   \n",
       "1                                                 India   \n",
       "2                                                 India   \n",
       "3                                                   USA   \n",
       "4                                                   USA   \n",
       "...                                                 ...   \n",
       "5184  OverviewEach book has an index page with label...   \n",
       "5185  OverviewStrong & sturdy case binding. Easy to ...   \n",
       "5186  OverviewAttractive colour and designs. Easy to...   \n",
       "5187  OverviewDrawing book has attractive cover desi...   \n",
       "5188  OverviewCoated with a double layer of acrylic ...   \n",
       "\n",
       "                         BreadCrumbs  \n",
       "0       Grocery > Grocery/Dry Fruits  \n",
       "1       Grocery > Grocery/Dry Fruits  \n",
       "2       Grocery > Grocery/Dry Fruits  \n",
       "3               Grocery > Dry Fruits  \n",
       "4               Grocery > Dry Fruits  \n",
       "...                              ...  \n",
       "5184  School Supplies > School Needs  \n",
       "5185  School Supplies > School Needs  \n",
       "5186  School Supplies > School Needs  \n",
       "5187  School Supplies > School Needs  \n",
       "5188  School Supplies > School Needs  \n",
       "\n",
       "[5188 rows x 9 columns]"
      ]
     },
     "execution_count": 26,
     "metadata": {},
     "output_type": "execute_result"
    }
   ],
   "source": [
    "df.dropna(subset=[\"Category\"]).copy()"
   ]
  },
  {
   "cell_type": "code",
   "execution_count": null,
   "id": "476f7694-b29d-479a-bd5c-d181d38b185d",
   "metadata": {},
   "outputs": [
    {
     "name": "stdout",
     "output_type": "stream",
     "text": [
      "15\n"
     ]
    }
   ],
   "source": [
    "#  Check total duplicates (completely same row)\n",
    "print(df.duplicated().sum())"
   ]
  },
  {
   "cell_type": "code",
   "execution_count": null,
   "id": "ffbb82d2-536b-4dd9-aa3c-b58b937b8eb7",
   "metadata": {},
   "outputs": [
    {
     "name": "stdout",
     "output_type": "stream",
     "text": [
      "                                                   Name    Brand   Price  \\\n",
      "2772             Cortina Elastic Chair Cover - Jacquard  Cortina   399.0   \n",
      "2773             Cortina Elastic Chair Cover - Jacquard  Cortina   399.0   \n",
      "2774             Cortina Elastic Chair Cover - Jacquard  Cortina   399.0   \n",
      "2813  Unigreen Compostable Green Garbage Bag 19X21 I...  Premier    99.0   \n",
      "2814  Unigreen Compostable Green Garbage Bag 19X21 I...  Premier    99.0   \n",
      "...                                                 ...      ...     ...   \n",
      "5045               Zeel LP306 Women's Raincoat - Orange     Zeel   550.0   \n",
      "5046   Zeel MT212 Men's Raincoat - Navy Blue : Size XXL     Zeel  1199.0   \n",
      "5047   Zeel MT212 Men's Raincoat - Navy Blue : Size XXL     Zeel  1199.0   \n",
      "5148                         Linc Pentonic Blue Gel Pen     Linc    50.0   \n",
      "5149                         Linc Pentonic Blue Gel Pen     Linc    50.0   \n",
      "\n",
      "      DiscountedPrice         Category             SubCategory  Quantity  \\\n",
      "2772            199.0   Home & Kitchen       Furniture & Décor      60.0   \n",
      "2773            199.0   Home & Kitchen       Furniture & Décor      60.0   \n",
      "2774            199.0   Home & Kitchen       Furniture & Décor      60.0   \n",
      "2813             59.0   Home & Kitchen  Tissue Paper & Napkins      60.0   \n",
      "2814             59.0   Home & Kitchen  Tissue Paper & Napkins      60.0   \n",
      "...               ...              ...                     ...       ...   \n",
      "5045            479.0         Raincoat                Raincoat      60.0   \n",
      "5046           1049.0         Raincoat                Raincoat      60.0   \n",
      "5047           1049.0         Raincoat                Raincoat      60.0   \n",
      "5148             45.0  School Supplies            School Needs      60.0   \n",
      "5149             45.0  School Supplies            School Needs      60.0   \n",
      "\n",
      "                                            Description  \\\n",
      "2772  OverviewCortina chair covers are made of stret...   \n",
      "2773  OverviewCortina chair covers are made of stret...   \n",
      "2774  OverviewCortina chair covers are made of stret...   \n",
      "2813  OverviewUnigreen Compostable Garbage Bags are ...   \n",
      "2814  OverviewUnigreen Compostable Garbage Bags are ...   \n",
      "...                                                 ...   \n",
      "5045  Specifications- Material : PVC- Colour : Orang...   \n",
      "5046  Specifications- Material : Fabric- Colour : Na...   \n",
      "5047  Specifications- Material : Fabric- Colour : Na...   \n",
      "5148  \\n- Material : Plastic\\n- Ink Colour : Blue\\n-...   \n",
      "5149  \\n- Material : Plastic\\n- Ink Colour : Black\\n...   \n",
      "\n",
      "                                  BreadCrumbs  \n",
      "2772       Home & Kitchen > Furniture & Décor  \n",
      "2773       Home & Kitchen > Furniture & Décor  \n",
      "2774       Home & Kitchen > Furniture & Décor  \n",
      "2813  Home & Kitchen > Tissue Paper & Napkins  \n",
      "2814  Home & Kitchen > Tissue Paper & Napkins  \n",
      "...                                       ...  \n",
      "5045                                 Raincoat  \n",
      "5046                                 Raincoat  \n",
      "5047                                 Raincoat  \n",
      "5148           School Supplies > School Needs  \n",
      "5149           School Supplies > School Needs  \n",
      "\n",
      "[136 rows x 9 columns]\n"
     ]
    }
   ],
   "source": [
    "# check duplicates only on some columns (Name, Brand, Quantity, Price)\n",
    "duplicates = df[df.duplicated(subset=[\"Name\", \"Brand\", \"Quantity\", \"Price\"], keep=False)]\n",
    "print(duplicates)"
   ]
  },
  {
   "cell_type": "code",
   "execution_count": null,
   "id": "a98ff108-cec5-4654-8466-160785511889",
   "metadata": {},
   "outputs": [],
   "source": [
    "#  Drop those duplicates\n",
    "df = df.drop_duplicates(subset=[\"Name\", \"Brand\", \"Quantity\", \"Price\"], keep=\"first\")"
   ]
  },
  {
   "cell_type": "code",
   "execution_count": null,
   "id": "9ccc6621-4e17-48c9-b02e-8811737ccb7c",
   "metadata": {},
   "outputs": [
    {
     "data": {
      "text/html": [
       "<div>\n",
       "<style scoped>\n",
       "    .dataframe tbody tr th:only-of-type {\n",
       "        vertical-align: middle;\n",
       "    }\n",
       "\n",
       "    .dataframe tbody tr th {\n",
       "        vertical-align: top;\n",
       "    }\n",
       "\n",
       "    .dataframe thead th {\n",
       "        text-align: right;\n",
       "    }\n",
       "</style>\n",
       "<table border=\"1\" class=\"dataframe\">\n",
       "  <thead>\n",
       "    <tr style=\"text-align: right;\">\n",
       "      <th></th>\n",
       "      <th>Name</th>\n",
       "      <th>Brand</th>\n",
       "      <th>Price</th>\n",
       "      <th>DiscountedPrice</th>\n",
       "      <th>Category</th>\n",
       "      <th>SubCategory</th>\n",
       "      <th>Quantity</th>\n",
       "      <th>Description</th>\n",
       "      <th>BreadCrumbs</th>\n",
       "    </tr>\n",
       "  </thead>\n",
       "  <tbody>\n",
       "    <tr>\n",
       "      <th>0</th>\n",
       "      <td>Premia Badam (Almonds)</td>\n",
       "      <td>Premia</td>\n",
       "      <td>451.0</td>\n",
       "      <td>329.0</td>\n",
       "      <td>Grocery</td>\n",
       "      <td>Grocery/Dry Fruits</td>\n",
       "      <td>500.0</td>\n",
       "      <td>India</td>\n",
       "      <td>Grocery &gt; Grocery/Dry Fruits</td>\n",
       "    </tr>\n",
       "    <tr>\n",
       "      <th>1</th>\n",
       "      <td>Premia Badam (Almonds)</td>\n",
       "      <td>Premia</td>\n",
       "      <td>109.0</td>\n",
       "      <td>85.0</td>\n",
       "      <td>Grocery</td>\n",
       "      <td>Grocery/Dry Fruits</td>\n",
       "      <td>100.0</td>\n",
       "      <td>India</td>\n",
       "      <td>Grocery &gt; Grocery/Dry Fruits</td>\n",
       "    </tr>\n",
       "    <tr>\n",
       "      <th>2</th>\n",
       "      <td>Premia Badam (Almonds)</td>\n",
       "      <td>Premia</td>\n",
       "      <td>202.0</td>\n",
       "      <td>175.0</td>\n",
       "      <td>Grocery</td>\n",
       "      <td>Grocery/Dry Fruits</td>\n",
       "      <td>200.0</td>\n",
       "      <td>India</td>\n",
       "      <td>Grocery &gt; Grocery/Dry Fruits</td>\n",
       "    </tr>\n",
       "    <tr>\n",
       "      <th>3</th>\n",
       "      <td>Nutraj California Almonds (Badam)</td>\n",
       "      <td>Nutraj</td>\n",
       "      <td>599.0</td>\n",
       "      <td>349.0</td>\n",
       "      <td>Grocery</td>\n",
       "      <td>Dry Fruits</td>\n",
       "      <td>500.0</td>\n",
       "      <td>USA</td>\n",
       "      <td>Grocery &gt; Dry Fruits</td>\n",
       "    </tr>\n",
       "    <tr>\n",
       "      <th>4</th>\n",
       "      <td>Nutraj California Almonds (Badam)</td>\n",
       "      <td>Nutraj</td>\n",
       "      <td>1549.0</td>\n",
       "      <td>659.0</td>\n",
       "      <td>Grocery</td>\n",
       "      <td>Dry Fruits</td>\n",
       "      <td>1.0</td>\n",
       "      <td>USA</td>\n",
       "      <td>Grocery &gt; Dry Fruits</td>\n",
       "    </tr>\n",
       "  </tbody>\n",
       "</table>\n",
       "</div>"
      ],
      "text/plain": [
       "                                Name   Brand   Price  DiscountedPrice  \\\n",
       "0             Premia Badam (Almonds)  Premia   451.0            329.0   \n",
       "1             Premia Badam (Almonds)  Premia   109.0             85.0   \n",
       "2             Premia Badam (Almonds)  Premia   202.0            175.0   \n",
       "3  Nutraj California Almonds (Badam)  Nutraj   599.0            349.0   \n",
       "4  Nutraj California Almonds (Badam)  Nutraj  1549.0            659.0   \n",
       "\n",
       "  Category         SubCategory  Quantity Description  \\\n",
       "0  Grocery  Grocery/Dry Fruits     500.0       India   \n",
       "1  Grocery  Grocery/Dry Fruits     100.0       India   \n",
       "2  Grocery  Grocery/Dry Fruits     200.0       India   \n",
       "3  Grocery          Dry Fruits     500.0         USA   \n",
       "4  Grocery          Dry Fruits       1.0         USA   \n",
       "\n",
       "                    BreadCrumbs  \n",
       "0  Grocery > Grocery/Dry Fruits  \n",
       "1  Grocery > Grocery/Dry Fruits  \n",
       "2  Grocery > Grocery/Dry Fruits  \n",
       "3          Grocery > Dry Fruits  \n",
       "4          Grocery > Dry Fruits  "
      ]
     },
     "execution_count": 30,
     "metadata": {},
     "output_type": "execute_result"
    }
   ],
   "source": [
    "df.head()"
   ]
  },
  {
   "cell_type": "code",
   "execution_count": null,
   "id": "78738736-04d6-48a1-905e-97d951fb1d88",
   "metadata": {},
   "outputs": [
    {
     "data": {
      "text/plain": [
       "Name               0\n",
       "Brand              0\n",
       "Price              0\n",
       "DiscountedPrice    0\n",
       "Category           0\n",
       "SubCategory        0\n",
       "Quantity           0\n",
       "Description        0\n",
       "BreadCrumbs        0\n",
       "dtype: int64"
      ]
     },
     "execution_count": 31,
     "metadata": {},
     "output_type": "execute_result"
    }
   ],
   "source": [
    "df.isnull().sum()"
   ]
  },
  {
   "cell_type": "code",
   "execution_count": null,
   "id": "4c4c22ee-feae-4802-afad-f244f97d3fe0",
   "metadata": {},
   "outputs": [
    {
     "data": {
      "text/plain": [
       "(5105, 9)"
      ]
     },
     "execution_count": 32,
     "metadata": {},
     "output_type": "execute_result"
    }
   ],
   "source": [
    "df.shape"
   ]
  },
  {
   "cell_type": "code",
   "execution_count": null,
   "id": "2727cdb1-3b1f-48a7-8c89-3b9f0e5f754f",
   "metadata": {},
   "outputs": [
    {
     "data": {
      "text/html": [
       "<div>\n",
       "<style scoped>\n",
       "    .dataframe tbody tr th:only-of-type {\n",
       "        vertical-align: middle;\n",
       "    }\n",
       "\n",
       "    .dataframe tbody tr th {\n",
       "        vertical-align: top;\n",
       "    }\n",
       "\n",
       "    .dataframe thead th {\n",
       "        text-align: right;\n",
       "    }\n",
       "</style>\n",
       "<table border=\"1\" class=\"dataframe\">\n",
       "  <thead>\n",
       "    <tr style=\"text-align: right;\">\n",
       "      <th></th>\n",
       "      <th>Price</th>\n",
       "      <th>Quantity</th>\n",
       "      <th>DiscountedPrice</th>\n",
       "    </tr>\n",
       "  </thead>\n",
       "  <tbody>\n",
       "    <tr>\n",
       "      <th>count</th>\n",
       "      <td>5105.000000</td>\n",
       "      <td>5105.000000</td>\n",
       "      <td>5105.000000</td>\n",
       "    </tr>\n",
       "    <tr>\n",
       "      <th>mean</th>\n",
       "      <td>341.847113</td>\n",
       "      <td>148.938492</td>\n",
       "      <td>234.915671</td>\n",
       "    </tr>\n",
       "    <tr>\n",
       "      <th>std</th>\n",
       "      <td>603.582957</td>\n",
       "      <td>203.675422</td>\n",
       "      <td>387.575796</td>\n",
       "    </tr>\n",
       "    <tr>\n",
       "      <th>min</th>\n",
       "      <td>0.000000</td>\n",
       "      <td>0.000000</td>\n",
       "      <td>0.000000</td>\n",
       "    </tr>\n",
       "    <tr>\n",
       "      <th>25%</th>\n",
       "      <td>85.000000</td>\n",
       "      <td>4.000000</td>\n",
       "      <td>63.000000</td>\n",
       "    </tr>\n",
       "    <tr>\n",
       "      <th>50%</th>\n",
       "      <td>170.000000</td>\n",
       "      <td>60.000000</td>\n",
       "      <td>125.000000</td>\n",
       "    </tr>\n",
       "    <tr>\n",
       "      <th>75%</th>\n",
       "      <td>330.000000</td>\n",
       "      <td>200.000000</td>\n",
       "      <td>249.000000</td>\n",
       "    </tr>\n",
       "    <tr>\n",
       "      <th>max</th>\n",
       "      <td>10990.000000</td>\n",
       "      <td>2000.000000</td>\n",
       "      <td>7999.000000</td>\n",
       "    </tr>\n",
       "  </tbody>\n",
       "</table>\n",
       "</div>"
      ],
      "text/plain": [
       "              Price     Quantity  DiscountedPrice\n",
       "count   5105.000000  5105.000000      5105.000000\n",
       "mean     341.847113   148.938492       234.915671\n",
       "std      603.582957   203.675422       387.575796\n",
       "min        0.000000     0.000000         0.000000\n",
       "25%       85.000000     4.000000        63.000000\n",
       "50%      170.000000    60.000000       125.000000\n",
       "75%      330.000000   200.000000       249.000000\n",
       "max    10990.000000  2000.000000      7999.000000"
      ]
     },
     "execution_count": 33,
     "metadata": {},
     "output_type": "execute_result"
    }
   ],
   "source": [
    "df[['Price','Quantity','DiscountedPrice']].describe()\n"
   ]
  },
  {
   "cell_type": "markdown",
   "id": "efdd6a09-3732-441f-90b3-f7d9df60bcb8",
   "metadata": {},
   "source": [
    "##  Outliers detect"
   ]
  },
  {
   "cell_type": "code",
   "execution_count": null,
   "id": "77823884-1666-46f7-97db-f52717ed4baf",
   "metadata": {},
   "outputs": [
    {
     "data": {
      "image/png": "[encoded data removed]",
      "text/plain": [
       "<Figure size 800x600 with 1 Axes>"
      ]
     },
     "metadata": {},
     "output_type": "display_data"
    }
   ],
   "source": [
    "df[['Price', 'Quantity', 'DiscountedPrice']].boxplot(figsize=(8,6))\n",
    "plt.title(\"Boxplot for Price, Quantity, and DiscountedPrice\")\n",
    "plt.show()\n"
   ]
  },
  {
   "cell_type": "markdown",
   "id": "783ba271-2956-499d-96d5-4ab9d7da9a6d",
   "metadata": {},
   "source": [
    "## Outlier Handle"
   ]
  },
  {
   "cell_type": "code",
   "execution_count": null,
   "id": "6ba5396e-f77a-4074-a0d4-2022bcc6c21c",
   "metadata": {},
   "outputs": [],
   "source": [
    "import numpy as np\n",
    "\n",
    "# 1. PRICE → Remove Outliers\n",
    "Q1 = df['Price'].quantile(0.25)\n",
    "Q3 = df['Price'].quantile(0.75)\n",
    "IQR = Q3 - Q1\n",
    "lower_limit_price = Q1 - 1.5 * IQR\n",
    "upper_limit_price = Q3 + 1.5 * IQR\n",
    "\n",
    "df = df[(df['Price'] >= lower_limit_price) & (df['Price'] <= upper_limit_price)]\n",
    "\n",
    "\n",
    "# 2. QUANTITY → Cap Outliers\n",
    "Q1 = df['Quantity'].quantile(0.25)\n",
    "Q3 = df['Quantity'].quantile(0.75)\n",
    "IQR = Q3 - Q1\n",
    "lower_limit_qty = Q1 - 1.5 * IQR\n",
    "upper_limit_qty = Q3 + 1.5 * IQR\n",
    "\n",
    "df['Quantity'] = np.where(df['Quantity'] > upper_limit_qty, upper_limit_qty,\n",
    "                   np.where(df['Quantity'] < lower_limit_qty, lower_limit_qty, df['Quantity']))\n",
    "\n",
    "\n",
    "# 3. DISCOUNTED PRICE → Remove Outliers\n",
    "Q1 = df['DiscountedPrice'].quantile(0.25)\n",
    "Q3 = df['DiscountedPrice'].quantile(0.75)\n",
    "IQR = Q3 - Q1\n",
    "lower_limit_disc = Q1 - 1.5 * IQR\n",
    "upper_limit_disc = Q3 + 1.5 * IQR\n",
    "\n",
    "df = df[(df['DiscountedPrice'] >= lower_limit_disc) & (df['DiscountedPrice'] <= upper_limit_disc)]\n"
   ]
  },
  {
   "cell_type": "code",
   "execution_count": null,
   "id": "cbcc7522-6666-4f2c-a1ef-9c44c90bf891",
   "metadata": {},
   "outputs": [
    {
     "data": {
      "text/html": [
       "<div>\n",
       "<style scoped>\n",
       "    .dataframe tbody tr th:only-of-type {\n",
       "        vertical-align: middle;\n",
       "    }\n",
       "\n",
       "    .dataframe tbody tr th {\n",
       "        vertical-align: top;\n",
       "    }\n",
       "\n",
       "    .dataframe thead th {\n",
       "        text-align: right;\n",
       "    }\n",
       "</style>\n",
       "<table border=\"1\" class=\"dataframe\">\n",
       "  <thead>\n",
       "    <tr style=\"text-align: right;\">\n",
       "      <th></th>\n",
       "      <th>Price</th>\n",
       "      <th>Quantity</th>\n",
       "      <th>DiscountedPrice</th>\n",
       "    </tr>\n",
       "  </thead>\n",
       "  <tbody>\n",
       "    <tr>\n",
       "      <th>count</th>\n",
       "      <td>4425.000000</td>\n",
       "      <td>4425.000000</td>\n",
       "      <td>4425.000000</td>\n",
       "    </tr>\n",
       "    <tr>\n",
       "      <th>mean</th>\n",
       "      <td>179.764389</td>\n",
       "      <td>145.262373</td>\n",
       "      <td>128.894124</td>\n",
       "    </tr>\n",
       "    <tr>\n",
       "      <th>std</th>\n",
       "      <td>134.051951</td>\n",
       "      <td>167.957047</td>\n",
       "      <td>92.586070</td>\n",
       "    </tr>\n",
       "    <tr>\n",
       "      <th>min</th>\n",
       "      <td>0.000000</td>\n",
       "      <td>0.000000</td>\n",
       "      <td>0.000000</td>\n",
       "    </tr>\n",
       "    <tr>\n",
       "      <th>25%</th>\n",
       "      <td>75.000000</td>\n",
       "      <td>5.000000</td>\n",
       "      <td>55.000000</td>\n",
       "    </tr>\n",
       "    <tr>\n",
       "      <th>50%</th>\n",
       "      <td>145.000000</td>\n",
       "      <td>80.000000</td>\n",
       "      <td>99.000000</td>\n",
       "    </tr>\n",
       "    <tr>\n",
       "      <th>75%</th>\n",
       "      <td>249.000000</td>\n",
       "      <td>200.000000</td>\n",
       "      <td>180.000000</td>\n",
       "    </tr>\n",
       "    <tr>\n",
       "      <th>max</th>\n",
       "      <td>697.000000</td>\n",
       "      <td>494.000000</td>\n",
       "      <td>402.000000</td>\n",
       "    </tr>\n",
       "  </tbody>\n",
       "</table>\n",
       "</div>"
      ],
      "text/plain": [
       "             Price     Quantity  DiscountedPrice\n",
       "count  4425.000000  4425.000000      4425.000000\n",
       "mean    179.764389   145.262373       128.894124\n",
       "std     134.051951   167.957047        92.586070\n",
       "min       0.000000     0.000000         0.000000\n",
       "25%      75.000000     5.000000        55.000000\n",
       "50%     145.000000    80.000000        99.000000\n",
       "75%     249.000000   200.000000       180.000000\n",
       "max     697.000000   494.000000       402.000000"
      ]
     },
     "execution_count": 36,
     "metadata": {},
     "output_type": "execute_result"
    }
   ],
   "source": [
    "df[['Price','Quantity','DiscountedPrice']].describe()\n"
   ]
  },
  {
   "cell_type": "code",
   "execution_count": null,
   "id": "89588579-729b-4b6b-98fc-93ed1c82b11e",
   "metadata": {},
   "outputs": [
    {
     "data": {
      "image/png": "[encoded data removed]",
      "text/plain": [
       "<Figure size 800x600 with 1 Axes>"
      ]
     },
     "metadata": {},
     "output_type": "display_data"
    }
   ],
   "source": [
    "df[['Price', 'Quantity', 'DiscountedPrice']].boxplot(figsize=(8,6))\n",
    "plt.title(\"Boxplot for Price, Quantity, and DiscountedPrice\")\n",
    "plt.show()"
   ]
  },
  {
   "cell_type": "markdown",
   "id": "58a8ab04-326e-4688-940f-99c63ac8f52e",
   "metadata": {},
   "source": [
    "# Feature Engineering based on  Questions"
   ]
  },
  {
   "cell_type": "markdown",
   "id": "a9b0ba80-4f1a-4601-9e8c-432024467397",
   "metadata": {},
   "source": [
    " ## 1. Pricing & Discount Impact\n",
    "\n",
    "   * Analyze the difference between `Price` and `DiscountedPrice`.\n",
    "   * Identify which products or categories have higher discounts and whether those"
   ]
  },
  {
   "cell_type": "code",
   "execution_count": null,
   "id": "1f8cc6bd-53b5-4873-b60b-b377d9fe683f",
   "metadata": {},
   "outputs": [],
   "source": [
    "# Create Discount Percentage\n",
    "df['DiscountPercent'] = ((df['Price'] - df['DiscountedPrice']) / df['Price']) * 100\n",
    "\n",
    "# Create Revenue (based on discounted price)\n",
    "df['Revenue'] = df['DiscountedPrice'] * df['Quantity']\n",
    "\n",
    "# Create Original Revenue (if sold at original price)\n",
    "df['OriginalRevenue'] = df['Price'] * df['Quantity']\n",
    "\n",
    "# Calculate Revenue Loss due to discounts\n",
    "df['RevenueLoss'] = df['OriginalRevenue'] - df['Revenue']"
   ]
  },
  {
   "cell_type": "markdown",
   "id": "1be23a7d-0ce8-4eea-9b8a-11334cbbc8ad",
   "metadata": {},
   "source": [
    "## 2. Category & SubCategory Performance\n",
    "\n",
    "   * Evaluate the performance of different `Category` and `SubCategory`.\n",
    "   * Find the Top 3 and Bottom 3 performing categories based on sales and revenue."
   ]
  },
  {
   "cell_type": "code",
   "execution_count": null,
   "id": "bf2b9db8-7023-41a5-bca4-c9adb557015c",
   "metadata": {},
   "outputs": [],
   "source": [
    "# Aggregate revenue and quantity by Category\n",
    "category_perf = df.groupby('Category').agg(\n",
    "    TotalRevenue=('Revenue', 'sum'),\n",
    "    TotalQuantity=('Quantity', 'sum'),\n",
    "    AvgDiscount=('DiscountPercent', 'mean')\n",
    ").reset_index()\n",
    "\n",
    "# Aggregate revenue and quantity by SubCategory\n",
    "subcategory_perf = df.groupby('SubCategory').agg(\n",
    "    TotalRevenue=('Revenue', 'sum'),\n",
    "    TotalQuantity=('Quantity', 'sum'),\n",
    "    AvgDiscount=('DiscountPercent', 'mean')\n",
    ").reset_index()\n"
   ]
  },
  {
   "cell_type": "markdown",
   "id": "be04c49e-5ee9-47ea-b1e0-818e189e8541",
   "metadata": {},
   "source": [
    "## 3.  Brand Analysis\n",
    "\n",
    "   * Compare different `Brand` performance in terms of total revenue and quantity sold.\n",
    "   * Identify the leading brands within specific categories (e.g., Amul in Dairy, Coca Cola in Beverages)."
   ]
  },
  {
   "cell_type": "code",
   "execution_count": null,
   "id": "c155be96-ca51-4aa4-8bc1-078cdb2f8b9e",
   "metadata": {},
   "outputs": [],
   "source": [
    "# Aggregate revenue and quantity by Brand\n",
    "brand_perf = df.groupby('Brand').agg(\n",
    "    BrandRevenue=('Revenue', 'sum'),\n",
    "    BrandQuantity=('Quantity', 'sum'),\n",
    "    AvgDiscount=('DiscountPercent', 'mean')\n",
    ").reset_index()\n",
    "\n",
    "# Within each Category, find the top Brand\n",
    "top_brands = df.groupby(['Category', 'Brand']).agg(\n",
    "    Revenue=('Revenue', 'sum'),\n",
    "    Quantity=('Quantity', 'sum')\n",
    ").reset_index()\n",
    "\n",
    "# Rank brands within category\n",
    "top_brands['Rank'] = top_brands.groupby('Category')['Revenue'].rank(method='dense', ascending=False)\n"
   ]
  },
  {
   "cell_type": "markdown",
   "id": "a14c5216-d6d0-474a-a0a7-03ca939fa613",
   "metadata": {},
   "source": [
    "## 4. Quantity Sold (Demand Analysis)\n",
    "\n",
    "   * Identify high-demand vs. low-demand products using the `Quantity` column.\n",
    "   * Check for seasonal or trend-based demand patterns (e.g., soft drinks in summer)."
   ]
  },
  {
   "cell_type": "code",
   "execution_count": null,
   "id": "2b6c91d1-093d-4e3a-ba38-72e8129aa4d9",
   "metadata": {},
   "outputs": [],
   "source": [
    "# Create Demand Flag\n",
    "df['DemandLevel'] = pd.qcut(df['Quantity'], q=3, labels=['Low', 'Medium', 'High'])\n",
    "\n",
    "# (Optional) Monthly demand trend (if date column exists)\n",
    "# df['Month'] = pd.to_datetime(df['Date']).dt.to_period('M')\n",
    "# monthly_demand = df.groupby(['Month','Category']).agg(TotalQuantity=('Quantity','sum')).reset_index()\n"
   ]
  },
  {
   "cell_type": "code",
   "execution_count": null,
   "id": "8a8abeac-2330-48a7-9c7a-ab127c302110",
   "metadata": {},
   "outputs": [
    {
     "name": "stdout",
     "output_type": "stream",
     "text": [
      "Index(['Name', 'Brand', 'Price', 'DiscountedPrice', 'Category', 'SubCategory',\n",
      "       'Quantity', 'Description', 'BreadCrumbs', 'DiscountPercent', 'Revenue',\n",
      "       'OriginalRevenue', 'RevenueLoss', 'DemandLevel'],\n",
      "      dtype='object')\n"
     ]
    }
   ],
   "source": [
    "print(df.columns)"
   ]
  },
  {
   "cell_type": "code",
   "execution_count": null,
   "id": "249be18f-5b49-4d6f-9f6a-087fafa97bd9",
   "metadata": {},
   "outputs": [
    {
     "data": {
      "text/plain": [
       "Name                 object\n",
       "Brand                object\n",
       "Price               float64\n",
       "DiscountedPrice     float64\n",
       "Category             object\n",
       "SubCategory          object\n",
       "Quantity            float64\n",
       "Description          object\n",
       "BreadCrumbs          object\n",
       "DiscountPercent     float64\n",
       "Revenue             float64\n",
       "OriginalRevenue     float64\n",
       "RevenueLoss         float64\n",
       "DemandLevel        category\n",
       "dtype: object"
      ]
     },
     "execution_count": 43,
     "metadata": {},
     "output_type": "execute_result"
    }
   ],
   "source": [
    "df.dtypes"
   ]
  },
  {
   "cell_type": "code",
   "execution_count": null,
   "id": "937ea134-9167-4617-89fb-34e6f9914624",
   "metadata": {},
   "outputs": [
    {
     "data": {
      "text/html": [
       "<div>\n",
       "<style scoped>\n",
       "    .dataframe tbody tr th:only-of-type {\n",
       "        vertical-align: middle;\n",
       "    }\n",
       "\n",
       "    .dataframe tbody tr th {\n",
       "        vertical-align: top;\n",
       "    }\n",
       "\n",
       "    .dataframe thead th {\n",
       "        text-align: right;\n",
       "    }\n",
       "</style>\n",
       "<table border=\"1\" class=\"dataframe\">\n",
       "  <thead>\n",
       "    <tr style=\"text-align: right;\">\n",
       "      <th></th>\n",
       "      <th>Name</th>\n",
       "      <th>Brand</th>\n",
       "      <th>Price</th>\n",
       "      <th>DiscountedPrice</th>\n",
       "      <th>Category</th>\n",
       "      <th>SubCategory</th>\n",
       "      <th>Quantity</th>\n",
       "      <th>Description</th>\n",
       "      <th>BreadCrumbs</th>\n",
       "      <th>DiscountPercent</th>\n",
       "      <th>Revenue</th>\n",
       "      <th>OriginalRevenue</th>\n",
       "      <th>RevenueLoss</th>\n",
       "      <th>DemandLevel</th>\n",
       "    </tr>\n",
       "  </thead>\n",
       "  <tbody>\n",
       "    <tr>\n",
       "      <th>0</th>\n",
       "      <td>Premia Badam (Almonds)</td>\n",
       "      <td>Premia</td>\n",
       "      <td>451.0</td>\n",
       "      <td>329.0</td>\n",
       "      <td>Grocery</td>\n",
       "      <td>Grocery/Dry Fruits</td>\n",
       "      <td>494.0</td>\n",
       "      <td>India</td>\n",
       "      <td>Grocery &gt; Grocery/Dry Fruits</td>\n",
       "      <td>27.050998</td>\n",
       "      <td>162526.0</td>\n",
       "      <td>222794.0</td>\n",
       "      <td>60268.0</td>\n",
       "      <td>High</td>\n",
       "    </tr>\n",
       "    <tr>\n",
       "      <th>1</th>\n",
       "      <td>Premia Badam (Almonds)</td>\n",
       "      <td>Premia</td>\n",
       "      <td>109.0</td>\n",
       "      <td>85.0</td>\n",
       "      <td>Grocery</td>\n",
       "      <td>Grocery/Dry Fruits</td>\n",
       "      <td>100.0</td>\n",
       "      <td>India</td>\n",
       "      <td>Grocery &gt; Grocery/Dry Fruits</td>\n",
       "      <td>22.018349</td>\n",
       "      <td>8500.0</td>\n",
       "      <td>10900.0</td>\n",
       "      <td>2400.0</td>\n",
       "      <td>Medium</td>\n",
       "    </tr>\n",
       "    <tr>\n",
       "      <th>2</th>\n",
       "      <td>Premia Badam (Almonds)</td>\n",
       "      <td>Premia</td>\n",
       "      <td>202.0</td>\n",
       "      <td>175.0</td>\n",
       "      <td>Grocery</td>\n",
       "      <td>Grocery/Dry Fruits</td>\n",
       "      <td>200.0</td>\n",
       "      <td>India</td>\n",
       "      <td>Grocery &gt; Grocery/Dry Fruits</td>\n",
       "      <td>13.366337</td>\n",
       "      <td>35000.0</td>\n",
       "      <td>40400.0</td>\n",
       "      <td>5400.0</td>\n",
       "      <td>High</td>\n",
       "    </tr>\n",
       "    <tr>\n",
       "      <th>3</th>\n",
       "      <td>Nutraj California Almonds (Badam)</td>\n",
       "      <td>Nutraj</td>\n",
       "      <td>599.0</td>\n",
       "      <td>349.0</td>\n",
       "      <td>Grocery</td>\n",
       "      <td>Dry Fruits</td>\n",
       "      <td>494.0</td>\n",
       "      <td>USA</td>\n",
       "      <td>Grocery &gt; Dry Fruits</td>\n",
       "      <td>41.736227</td>\n",
       "      <td>172406.0</td>\n",
       "      <td>295906.0</td>\n",
       "      <td>123500.0</td>\n",
       "      <td>High</td>\n",
       "    </tr>\n",
       "    <tr>\n",
       "      <th>5</th>\n",
       "      <td>Chana Dal</td>\n",
       "      <td>Satyam</td>\n",
       "      <td>49.0</td>\n",
       "      <td>42.0</td>\n",
       "      <td>Grocery</td>\n",
       "      <td>Dals</td>\n",
       "      <td>494.0</td>\n",
       "      <td>India</td>\n",
       "      <td>Grocery &gt; Dals</td>\n",
       "      <td>14.285714</td>\n",
       "      <td>20748.0</td>\n",
       "      <td>24206.0</td>\n",
       "      <td>3458.0</td>\n",
       "      <td>High</td>\n",
       "    </tr>\n",
       "  </tbody>\n",
       "</table>\n",
       "</div>"
      ],
      "text/plain": [
       "                                Name   Brand  Price  DiscountedPrice Category  \\\n",
       "0             Premia Badam (Almonds)  Premia  451.0            329.0  Grocery   \n",
       "1             Premia Badam (Almonds)  Premia  109.0             85.0  Grocery   \n",
       "2             Premia Badam (Almonds)  Premia  202.0            175.0  Grocery   \n",
       "3  Nutraj California Almonds (Badam)  Nutraj  599.0            349.0  Grocery   \n",
       "5                          Chana Dal  Satyam   49.0             42.0  Grocery   \n",
       "\n",
       "          SubCategory  Quantity Description                   BreadCrumbs  \\\n",
       "0  Grocery/Dry Fruits     494.0       India  Grocery > Grocery/Dry Fruits   \n",
       "1  Grocery/Dry Fruits     100.0       India  Grocery > Grocery/Dry Fruits   \n",
       "2  Grocery/Dry Fruits     200.0       India  Grocery > Grocery/Dry Fruits   \n",
       "3          Dry Fruits     494.0         USA          Grocery > Dry Fruits   \n",
       "5                Dals     494.0       India                Grocery > Dals   \n",
       "\n",
       "   DiscountPercent   Revenue  OriginalRevenue  RevenueLoss DemandLevel  \n",
       "0        27.050998  162526.0         222794.0      60268.0        High  \n",
       "1        22.018349    8500.0          10900.0       2400.0      Medium  \n",
       "2        13.366337   35000.0          40400.0       5400.0        High  \n",
       "3        41.736227  172406.0         295906.0     123500.0        High  \n",
       "5        14.285714   20748.0          24206.0       3458.0        High  "
      ]
     },
     "execution_count": 44,
     "metadata": {},
     "output_type": "execute_result"
    }
   ],
   "source": [
    "df.head()"
   ]
  },
  {
   "cell_type": "code",
   "execution_count": null,
   "id": "fefde379-9496-4a6a-9967-e82961d020b3",
   "metadata": {},
   "outputs": [
    {
     "data": {
      "text/plain": [
       "Index(['Name', 'Brand', 'Price', 'DiscountedPrice', 'Category', 'SubCategory',\n",
       "       'Quantity', 'Description', 'BreadCrumbs', 'DiscountPercent', 'Revenue',\n",
       "       'OriginalRevenue', 'RevenueLoss', 'DemandLevel'],\n",
       "      dtype='object')"
      ]
     },
     "execution_count": 45,
     "metadata": {},
     "output_type": "execute_result"
    }
   ],
   "source": [
    "df.columns"
   ]
  },
  {
   "cell_type": "markdown",
   "id": "d4b7101e-34fb-4524-87dd-bde468444b8e",
   "metadata": {},
   "source": [
    "# Answer Business Question using SQL"
   ]
  },
  {
   "cell_type": "markdown",
   "id": "3bd17541-217a-4212-b7f3-bb355d8d222a",
   "metadata": {},
   "source": [
    "## 1: Pricing & Discount Impact\n",
    "* What is the average discount percentage?\n",
    "* Which categories give the highest average discount?"
   ]
  },
  {
   "cell_type": "code",
   "execution_count": null,
   "id": "8178213f-4022-45f9-b476-f6ce43fffa4e",
   "metadata": {},
   "outputs": [
    {
     "name": "stdout",
     "output_type": "stream",
     "text": [
      "Average Discount %:\n",
      "    avg_discount_percentage\n",
      "0                    26.39\n",
      "\n",
      "Category-wise Discount %:\n",
      "                          Category  avg_discount_percentage\n",
      "0                            Geep                    61.87\n",
      "1                    Smartwatches                    58.34\n",
      "2                       Butterfly                    57.47\n",
      "3                       Zebronics                    56.75\n",
      "4                       Backpacks                    51.73\n",
      "5                            None                    50.01\n",
      "6                          Pigeon                    49.96\n",
      "7                      Wonderchef                    49.08\n",
      "8                           Syska                    43.80\n",
      "9            Computer Accessories                    37.61\n",
      "10                  Joyo Plastics                    36.89\n",
      "11                       Specials                    32.72\n",
      "12         Clothing & Accessories                    32.36\n",
      "13                     Appliances                    31.65\n",
      "14                Plant Container                    30.97\n",
      "15             Beauty & Cosmetics                    29.15\n",
      "16                 Home & Kitchen                    29.01\n",
      "17                  Packaged Food                    28.68\n",
      "18                  Personal Care                    25.93\n",
      "19                  DMart Grocery                    24.90\n",
      "20                 Kitchen Aprons                    24.56\n",
      "21            Fruits & Vegetables                    22.32\n",
      "22                        Grocery                    21.85\n",
      "23              Dairy & Beverages                    21.41\n",
      "24                      Tableware                    20.95\n",
      "25                School Supplies                    20.58\n",
      "26              Motorbike Helmets                    15.38\n",
      "27                       Raincoat                    11.87\n",
      "28  Water Purifiers & Accessories                     5.71\n",
      "29                    Baby & Kids                     2.86\n"
     ]
    }
   ],
   "source": [
    "import pandas as pd\n",
    "\n",
    "# -------------------------\n",
    "# Business Problem 1: Pricing & Discount Impact\n",
    "# -------------------------\n",
    "\n",
    "# Average discount across all products\n",
    "query_avg_discount = \"\"\"\n",
    "SELECT \n",
    "    ROUND(AVG((Price - DiscountedPrice) * 100.0 / Price), 2) AS avg_discount_percentage\n",
    "FROM dmart_products;\n",
    "\"\"\"\n",
    "avg_discount = pd.read_sql_query(query_avg_discount, conn)\n",
    "print(\"Average Discount %:\\n\", avg_discount)\n",
    "\n",
    "# Category-wise average discount\n",
    "query_category_discount = \"\"\"\n",
    "SELECT \n",
    "    Category,\n",
    "    ROUND(AVG((Price - DiscountedPrice) * 100.0 / Price), 2) AS avg_discount_percentage\n",
    "FROM dmart_products\n",
    "GROUP BY Category\n",
    "ORDER BY avg_discount_percentage DESC;\n",
    "\"\"\"\n",
    "category_discount = pd.read_sql_query(query_category_discount, conn)\n",
    "print(\"\\nCategory-wise Discount %:\\n\", category_discount)"
   ]
  },
  {
   "cell_type": "markdown",
   "id": "1143b379-ddf4-4683-becd-a0bfe7086721",
   "metadata": {},
   "source": [
    "## 2. Category & SubCategory Performance\n",
    "* Which are the Top 3 and Bottom 3 categories based on revenue?"
   ]
  },
  {
   "cell_type": "code",
   "execution_count": null,
   "id": "05a54b2b-efc9-4509-bbcd-a7ab1df95885",
   "metadata": {},
   "outputs": [
    {
     "name": "stdout",
     "output_type": "stream",
     "text": [
      "\n",
      "Top 3 Categories by Revenue:\n",
      "         Category  total_revenue\n",
      "0     Appliances    36443620.50\n",
      "1  Personal Care    35185444.95\n",
      "2  Packaged Food    31262698.01\n"
     ]
    }
   ],
   "source": [
    "# Top 3 categories by revenue\n",
    "query_top_categories = \"\"\"\n",
    "SELECT \n",
    "    Category,\n",
    "    SUM(DiscountedPrice * Quantity) AS total_revenue\n",
    "FROM dmart_products\n",
    "GROUP BY Category\n",
    "ORDER BY total_revenue DESC\n",
    "LIMIT 3;\n",
    "\"\"\"\n",
    "top3_categories = pd.read_sql_query(query_top_categories, conn)\n",
    "print(\"\\nTop 3 Categories by Revenue:\\n\", top3_categories)"
   ]
  },
  {
   "cell_type": "markdown",
   "id": "998b4b26-c7b1-484f-9ad1-adfbd993ab42",
   "metadata": {},
   "source": [
    "## 3: Brand Analysis\n",
    "  * Which brands generate the highest revenue?\n",
    "  * Which brands sell the most units?"
   ]
  },
  {
   "cell_type": "code",
   "execution_count": null,
   "id": "1bcefa39-4fdd-4cb6-bc6b-a4a2b8b26368",
   "metadata": {},
   "outputs": [
    {
     "name": "stdout",
     "output_type": "stream",
     "text": [
      "\n",
      "Bottom 3 Categories by Revenue:\n",
      "                  Category  total_revenue\n",
      "0           Joyo Plastics            0.0\n",
      "1                Raincoat            0.0\n",
      "2  Clothing & Accessories          357.0\n"
     ]
    }
   ],
   "source": [
    "# Bottom 3 categories by revenue\n",
    "query_bottom_categories = \"\"\"\n",
    "SELECT \n",
    "    Category,\n",
    "    SUM(DiscountedPrice * Quantity) AS total_revenue\n",
    "FROM dmart_products\n",
    "GROUP BY Category\n",
    "ORDER BY total_revenue ASC\n",
    "LIMIT 3;\n",
    "\"\"\"\n",
    "bottom3_categories = pd.read_sql_query(query_bottom_categories, conn)\n",
    "print(\"\\nBottom 3 Categories by Revenue:\\n\", bottom3_categories)\n"
   ]
  },
  {
   "cell_type": "markdown",
   "id": "3dd2a58b-3ef1-4d98-a3be-5da707c449b4",
   "metadata": {},
   "source": [
    "## 4: Quantity Sold (Demand Analysis)\n",
    "* Which products are High, Medium, and Low Demand?"
   ]
  },
  {
   "cell_type": "code",
   "execution_count": null,
   "id": "9db395fe-af11-47c3-bbc7-4062208d31f3",
   "metadata": {},
   "outputs": [
    {
     "name": "stdout",
     "output_type": "stream",
     "text": [
      "\n",
      "Demand Classification:\n",
      "                                                    Name  \\\n",
      "0     Trident Comfort Living Double Bedsheet ZOEPI 1...   \n",
      "1     Trident Comfort Living Double Bedsheet ZOEPE 1...   \n",
      "2     In Shape Ladies Inner Elastic Hipster Panties - C   \n",
      "3     In Shape Ladies Inner Elastic Hipster Panties - B   \n",
      "4     In Shape Ladies Inner Elastic Hipster Panties - B   \n",
      "...                                                 ...   \n",
      "5184                                    Wada Kolam Rice   \n",
      "5185                                   Silky Kolam Rice   \n",
      "5186                      Eco Kolam Jirasar Sorted Rice   \n",
      "5187                          Force 10 Bathroom Cleaner   \n",
      "5188   Zeel MT212 Men's Raincoat - Navy Blue : Size XXL   \n",
      "\n",
      "                    Category       Quantity demand_level  \n",
      "0             Home & Kitchen       Zoe Pink  High Demand  \n",
      "1             Home & Kitchen       ZOE Peri  High Demand  \n",
      "2     Clothing & Accessories  XXXL (105 cm)  High Demand  \n",
      "3     Clothing & Accessories  XXXL (105 cm)  High Demand  \n",
      "4     Clothing & Accessories   XXL (100 cm)  High Demand  \n",
      "...                      ...            ...          ...  \n",
      "5184           DMart Grocery           5 kg   Low Demand  \n",
      "5185           DMart Grocery           5 kg   Low Demand  \n",
      "5186           DMart Grocery           5 kg   Low Demand  \n",
      "5187          Home & Kitchen            1 L   Low Demand  \n",
      "5188                Raincoat           None   Low Demand  \n",
      "\n",
      "[5189 rows x 4 columns]\n",
      "\n",
      "Category-wise Demand:\n",
      "                          Category  total_quantity_sold\n",
      "0                   Packaged Food            251046.72\n",
      "1                         Grocery            157859.00\n",
      "2                   Personal Care            145791.25\n",
      "3               Dairy & Beverages             88029.15\n",
      "4                  Home & Kitchen             55247.80\n",
      "5                      Appliances             18741.50\n",
      "6             Fruits & Vegetables             15793.00\n",
      "7                        Specials             11173.20\n",
      "8              Beauty & Cosmetics              2077.00\n",
      "9                   DMart Grocery              1924.00\n",
      "10                         Pigeon              1800.00\n",
      "11                      Tableware              1200.00\n",
      "12                          Syska              1000.00\n",
      "13                    Baby & Kids               960.00\n",
      "14                     Wonderchef               400.00\n",
      "15                School Supplies               172.00\n",
      "16                Plant Container                23.00\n",
      "17                      Backpacks                13.00\n",
      "18                           None                12.00\n",
      "19                      Butterfly                 8.50\n",
      "20                      Zebronics                 7.00\n",
      "21                           Geep                 6.00\n",
      "22                 Kitchen Aprons                 3.00\n",
      "23         Clothing & Accessories                 3.00\n",
      "24              Motorbike Helmets                 2.00\n",
      "25           Computer Accessories                 2.00\n",
      "26  Water Purifiers & Accessories                 1.00\n",
      "27                   Smartwatches                 1.00\n",
      "28                       Raincoat                 0.00\n",
      "29                  Joyo Plastics                 0.00\n"
     ]
    }
   ],
   "source": [
    "# Demand level classification of products\n",
    "query_demand_classification = \"\"\"\n",
    "SELECT \n",
    "    Name,\n",
    "    Category,\n",
    "    Quantity,\n",
    "    CASE \n",
    "        WHEN Quantity >= 200 THEN 'High Demand'\n",
    "        WHEN Quantity BETWEEN 100 AND 199 THEN 'Medium Demand'\n",
    "        ELSE 'Low Demand'\n",
    "    END AS demand_level\n",
    "FROM dmart_products\n",
    "ORDER BY Quantity DESC;\n",
    "\"\"\"\n",
    "demand_classification = pd.read_sql_query(query_demand_classification, conn)\n",
    "print(\"\\nDemand Classification:\\n\", demand_classification)\n",
    "\n",
    "# Category-wise total demand\n",
    "query_category_demand = \"\"\"\n",
    "SELECT \n",
    "    Category,\n",
    "    SUM(Quantity) AS total_quantity_sold\n",
    "FROM dmart_products\n",
    "GROUP BY Category\n",
    "ORDER BY total_quantity_sold DESC;\n",
    "\"\"\"\n",
    "category_demand = pd.read_sql_query(query_category_demand, conn)\n",
    "print(\"\\nCategory-wise Demand:\\n\", category_demand)"
   ]
  },
  {
   "cell_type": "code",
   "execution_count": null,
   "id": "68db783e-7a6f-40e1-8d11-4c26bde130a3",
   "metadata": {},
   "outputs": [
    {
     "data": {
      "text/html": [
       "<div>\n",
       "<style scoped>\n",
       "    .dataframe tbody tr th:only-of-type {\n",
       "        vertical-align: middle;\n",
       "    }\n",
       "\n",
       "    .dataframe tbody tr th {\n",
       "        vertical-align: top;\n",
       "    }\n",
       "\n",
       "    .dataframe thead th {\n",
       "        text-align: right;\n",
       "    }\n",
       "</style>\n",
       "<table border=\"1\" class=\"dataframe\">\n",
       "  <thead>\n",
       "    <tr style=\"text-align: right;\">\n",
       "      <th></th>\n",
       "      <th>Name</th>\n",
       "      <th>Brand</th>\n",
       "      <th>Price</th>\n",
       "      <th>DiscountedPrice</th>\n",
       "      <th>Category</th>\n",
       "      <th>SubCategory</th>\n",
       "      <th>Quantity</th>\n",
       "      <th>Description</th>\n",
       "      <th>BreadCrumbs</th>\n",
       "      <th>DiscountPercent</th>\n",
       "      <th>Revenue</th>\n",
       "      <th>OriginalRevenue</th>\n",
       "      <th>RevenueLoss</th>\n",
       "      <th>DemandLevel</th>\n",
       "    </tr>\n",
       "  </thead>\n",
       "  <tbody>\n",
       "    <tr>\n",
       "      <th>0</th>\n",
       "      <td>Premia Badam (Almonds)</td>\n",
       "      <td>Premia</td>\n",
       "      <td>451.0</td>\n",
       "      <td>329.0</td>\n",
       "      <td>Grocery</td>\n",
       "      <td>Grocery/Dry Fruits</td>\n",
       "      <td>494.0</td>\n",
       "      <td>India</td>\n",
       "      <td>Grocery &gt; Grocery/Dry Fruits</td>\n",
       "      <td>27.050998</td>\n",
       "      <td>162526.0</td>\n",
       "      <td>222794.0</td>\n",
       "      <td>60268.0</td>\n",
       "      <td>High</td>\n",
       "    </tr>\n",
       "    <tr>\n",
       "      <th>1</th>\n",
       "      <td>Premia Badam (Almonds)</td>\n",
       "      <td>Premia</td>\n",
       "      <td>109.0</td>\n",
       "      <td>85.0</td>\n",
       "      <td>Grocery</td>\n",
       "      <td>Grocery/Dry Fruits</td>\n",
       "      <td>100.0</td>\n",
       "      <td>India</td>\n",
       "      <td>Grocery &gt; Grocery/Dry Fruits</td>\n",
       "      <td>22.018349</td>\n",
       "      <td>8500.0</td>\n",
       "      <td>10900.0</td>\n",
       "      <td>2400.0</td>\n",
       "      <td>Medium</td>\n",
       "    </tr>\n",
       "    <tr>\n",
       "      <th>2</th>\n",
       "      <td>Premia Badam (Almonds)</td>\n",
       "      <td>Premia</td>\n",
       "      <td>202.0</td>\n",
       "      <td>175.0</td>\n",
       "      <td>Grocery</td>\n",
       "      <td>Grocery/Dry Fruits</td>\n",
       "      <td>200.0</td>\n",
       "      <td>India</td>\n",
       "      <td>Grocery &gt; Grocery/Dry Fruits</td>\n",
       "      <td>13.366337</td>\n",
       "      <td>35000.0</td>\n",
       "      <td>40400.0</td>\n",
       "      <td>5400.0</td>\n",
       "      <td>High</td>\n",
       "    </tr>\n",
       "    <tr>\n",
       "      <th>3</th>\n",
       "      <td>Nutraj California Almonds (Badam)</td>\n",
       "      <td>Nutraj</td>\n",
       "      <td>599.0</td>\n",
       "      <td>349.0</td>\n",
       "      <td>Grocery</td>\n",
       "      <td>Dry Fruits</td>\n",
       "      <td>494.0</td>\n",
       "      <td>USA</td>\n",
       "      <td>Grocery &gt; Dry Fruits</td>\n",
       "      <td>41.736227</td>\n",
       "      <td>172406.0</td>\n",
       "      <td>295906.0</td>\n",
       "      <td>123500.0</td>\n",
       "      <td>High</td>\n",
       "    </tr>\n",
       "    <tr>\n",
       "      <th>5</th>\n",
       "      <td>Chana Dal</td>\n",
       "      <td>Satyam</td>\n",
       "      <td>49.0</td>\n",
       "      <td>42.0</td>\n",
       "      <td>Grocery</td>\n",
       "      <td>Dals</td>\n",
       "      <td>494.0</td>\n",
       "      <td>India</td>\n",
       "      <td>Grocery &gt; Dals</td>\n",
       "      <td>14.285714</td>\n",
       "      <td>20748.0</td>\n",
       "      <td>24206.0</td>\n",
       "      <td>3458.0</td>\n",
       "      <td>High</td>\n",
       "    </tr>\n",
       "  </tbody>\n",
       "</table>\n",
       "</div>"
      ],
      "text/plain": [
       "                                Name   Brand  Price  DiscountedPrice Category  \\\n",
       "0             Premia Badam (Almonds)  Premia  451.0            329.0  Grocery   \n",
       "1             Premia Badam (Almonds)  Premia  109.0             85.0  Grocery   \n",
       "2             Premia Badam (Almonds)  Premia  202.0            175.0  Grocery   \n",
       "3  Nutraj California Almonds (Badam)  Nutraj  599.0            349.0  Grocery   \n",
       "5                          Chana Dal  Satyam   49.0             42.0  Grocery   \n",
       "\n",
       "          SubCategory  Quantity Description                   BreadCrumbs  \\\n",
       "0  Grocery/Dry Fruits     494.0       India  Grocery > Grocery/Dry Fruits   \n",
       "1  Grocery/Dry Fruits     100.0       India  Grocery > Grocery/Dry Fruits   \n",
       "2  Grocery/Dry Fruits     200.0       India  Grocery > Grocery/Dry Fruits   \n",
       "3          Dry Fruits     494.0         USA          Grocery > Dry Fruits   \n",
       "5                Dals     494.0       India                Grocery > Dals   \n",
       "\n",
       "   DiscountPercent   Revenue  OriginalRevenue  RevenueLoss DemandLevel  \n",
       "0        27.050998  162526.0         222794.0      60268.0        High  \n",
       "1        22.018349    8500.0          10900.0       2400.0      Medium  \n",
       "2        13.366337   35000.0          40400.0       5400.0        High  \n",
       "3        41.736227  172406.0         295906.0     123500.0        High  \n",
       "5        14.285714   20748.0          24206.0       3458.0        High  "
      ]
     },
     "execution_count": 50,
     "metadata": {},
     "output_type": "execute_result"
    }
   ],
   "source": [
    "df.head()"
   ]
  },
  {
   "cell_type": "markdown",
   "id": "2a9c998c-6b25-40ec-ae7f-9ed4f9d390ca",
   "metadata": {},
   "source": [
    "# Visualization"
   ]
  },
  {
   "cell_type": "code",
   "execution_count": null,
   "id": "5b9a5229-738c-42c6-a332-3eef273caace",
   "metadata": {
    "scrolled": true
   },
   "outputs": [
    {
     "data": {
      "image/png": "[encoded data removed]",
      "text/plain": [
       "<Figure size 800x500 with 1 Axes>"
      ]
     },
     "metadata": {},
     "output_type": "display_data"
    }
   ],
   "source": [
    "# Category-wise Average Discount\n",
    "\n",
    "import matplotlib.pyplot as plt\n",
    "import seaborn as sns\n",
    "\n",
    "plt.figure(figsize=(8,5))  # medium size\n",
    "ax = sns.barplot(\n",
    "    data=category_discount,\n",
    "    y=\"Category\",\n",
    "    x=\"avg_discount_percentage\",\n",
    "    palette=\"viridis\"\n",
    ")\n",
    "\n",
    "plt.title(\"Category-wise Average Discount %\", fontsize=13)  # thoda bada\n",
    "plt.xlabel(\"Avg Discount %\", fontsize=11)\n",
    "plt.ylabel(\"Category\", fontsize=11)\n",
    "\n",
    "# Values ko bar ke saath show karna\n",
    "for i, v in enumerate(category_discount[\"avg_discount_percentage\"]):\n",
    "    ax.text(v + 0.5, i, f\"{v:.1f}\", fontsize=10)\n",
    "\n",
    "plt.tight_layout()\n",
    "plt.show()\n"
   ]
  },
  {
   "cell_type": "code",
   "execution_count": null,
   "id": "1a62b620-09ab-46ce-8b74-16e151d0f88a",
   "metadata": {},
   "outputs": [
    {
     "data": {
      "image/png": "[encoded data removed]",
      "text/plain": [
       "<Figure size 600x500 with 1 Axes>"
      ]
     },
     "metadata": {},
     "output_type": "display_data"
    }
   ],
   "source": [
    "#Top 3 Categories by Revenue\n",
    "\n",
    "plt.figure(figsize=(6,5))\n",
    "sns.barplot(data=top3_categories, x=\"Category\", y=\"total_revenue\", palette=\"Blues_r\")\n",
    "plt.title(\"Top 3 Categories by Revenue\", fontsize=14)\n",
    "plt.xlabel(\"Category\")\n",
    "plt.ylabel(\"Revenue\")\n",
    "plt.show()"
   ]
  },
  {
   "cell_type": "code",
   "execution_count": null,
   "id": "82720f11-5e10-47a4-b67c-05a0905737ca",
   "metadata": {},
   "outputs": [
    {
     "data": {
      "image/png": "[encoded data removed]",
      "text/plain": [
       "<Figure size 600x500 with 1 Axes>"
      ]
     },
     "metadata": {},
     "output_type": "display_data"
    }
   ],
   "source": [
    "#Bottom 3 Categories by Revenue\n",
    "\n",
    "plt.figure(figsize=(6,5))\n",
    "sns.barplot(data=bottom3_categories, x=\"Category\", y=\"total_revenue\", palette=\"Reds\")\n",
    "plt.title(\"Bottom 3 Categories by Revenue\", fontsize=14)\n",
    "plt.xlabel(\"Category\")\n",
    "plt.ylabel(\"Revenue\")\n",
    "plt.show()\n"
   ]
  },
  {
   "cell_type": "code",
   "execution_count": null,
   "id": "6e461a23-e888-4500-96a2-0e84f1817906",
   "metadata": {},
   "outputs": [
    {
     "data": {
      "image/png": "[encoded data removed]",
      "text/plain": [
       "<Figure size 800x500 with 1 Axes>"
      ]
     },
     "metadata": {},
     "output_type": "display_data"
    }
   ],
   "source": [
    "#Demand Level Classification of Products\n",
    "\n",
    "import matplotlib.pyplot as plt\n",
    "import seaborn as sns\n",
    "\n",
    "# ✅ Step 1: Demand Classification Count\n",
    "demand_counts = demand_classification['demand_level'].value_counts().reindex(['High Demand', 'Medium Demand', 'Low Demand'])\n",
    "\n",
    "plt.figure(figsize=(8,5))\n",
    "sns.barplot(x=demand_counts.index, y=demand_counts.values, palette=\"viridis\")\n",
    "plt.title(\"Number of Products by Demand Level\", fontsize=14)\n",
    "plt.xlabel(\"Demand Level\")\n",
    "plt.ylabel(\"Number of Products\")\n",
    "\n",
    "# Bars ke upar values show karna\n",
    "for i, v in enumerate(demand_counts.values):\n",
    "    plt.text(i, v + 1, str(v), ha='center', fontsize=12)\n",
    "\n",
    "plt.show()\n",
    "\n",
    "\n",
    "\n",
    "\n"
   ]
  },
  {
   "cell_type": "code",
   "execution_count": null,
   "id": "aba952c4-b9dc-4248-902f-be83dd17667d",
   "metadata": {},
   "outputs": [
    {
     "data": {
      "image/png": "[encoded data removed]",
      "text/plain": [
       "<Figure size 1000x600 with 1 Axes>"
      ]
     },
     "metadata": {},
     "output_type": "display_data"
    }
   ],
   "source": [
    "# ✅ Step 2: Category-wise Total Demand\n",
    "plt.figure(figsize=(10,6))\n",
    "sns.barplot(x='total_quantity_sold', y='Category', data=category_demand, palette=\"magma\")\n",
    "plt.title(\"Category-wise Total Quantity Sold\", fontsize=14)\n",
    "plt.xlabel(\"Total Quantity Sold\")\n",
    "plt.ylabel(\"Category\")\n",
    "\n",
    "# Bars ke upar values show karna\n",
    "for i, v in enumerate(category_demand['total_quantity_sold']):\n",
    "    plt.text(v + 5, i, str(v), va='center', fontsize=12)\n",
    "\n",
    "plt.show()"
   ]
  },
  {
   "cell_type": "code",
   "execution_count": null,
   "id": "93388fe5-26ab-43a0-8fa9-d4499ad60e2b",
   "metadata": {},
   "outputs": [
    {
     "data": {
      "image/png": "[encoded data removed]",
      "text/plain": [
       "<Figure size 800x600 with 1 Axes>"
      ]
     },
     "metadata": {},
     "output_type": "display_data"
    }
   ],
   "source": [
    "#Category-wise Total Demand\n",
    "\n",
    "plt.figure(figsize=(8,6))\n",
    "sns.barplot(data=category_demand, y=\"Category\", x=\"total_quantity_sold\", palette=\"coolwarm\")\n",
    "plt.title(\"Category-wise Total Demand\", fontsize=14)\n",
    "plt.xlabel(\"Total Quantity Sold\")\n",
    "plt.ylabel(\"Category\")\n",
    "plt.show()\n"
   ]
  },
  {
   "cell_type": "markdown",
   "id": "3c04bed5-474e-4b1d-9e87-a72e201f40ba",
   "metadata": {},
   "source": [
    "#                                                            END "
   ]
  },
  {
   "cell_type": "code",
   "execution_count": null,
   "id": "7407e574-a5db-49c3-8ab9-23019ba0e57b",
   "metadata": {},
   "outputs": [],
   "source": [
    "df.to_csv(\"final_output.csv\", index=False)\n"
   ]
  },
  {
   "cell_type": "code",
   "execution_count": null,
   "id": "f970f680-4470-45ce-abc2-caf8fb64db43",
   "metadata": {},
   "outputs": [],
   "source": []
  }
 ],
 "metadata": {
  "kernelspec": {
   "display_name": "base",
   "language": "python",
   "name": "python3"
  },
  "language_info": {
   "codemirror_mode": {
    "name": "ipython",
    "version": 3
   },
   "file_extension": ".py",
   "mimetype": "text/x-python",
   "name": "python",
   "nbconvert_exporter": "python",
   "pygments_lexer": "ipython3",
   "version": "3.13.5"
  }
 },
 "nbformat": 4,
 "nbformat_minor": 5
}
